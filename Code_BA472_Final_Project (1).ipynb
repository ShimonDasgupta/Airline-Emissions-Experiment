{
  "nbformat": 4,
  "nbformat_minor": 0,
  "metadata": {
    "colab": {
      "provenance": []
    },
    "kernelspec": {
      "name": "python3",
      "display_name": "Python 3"
    },
    "language_info": {
      "name": "python"
    }
  },
  "cells": [
    {
      "cell_type": "code",
      "source": [
        "import pandas as pd\n",
        "import numpy as np\n",
        "from google.colab import files\n",
        "files.upload()\n",
        "data = pd.read_csv('BA472 Final Data Set.csv')"
      ],
      "metadata": {
        "id": "JsZP42HFCE-V",
        "colab": {
          "base_uri": "https://localhost:8080/",
          "height": 72
        },
        "outputId": "8db7712f-f089-4bbc-ebda-84586626ab21"
      },
      "execution_count": 42,
      "outputs": [
        {
          "output_type": "display_data",
          "data": {
            "text/plain": [
              "<IPython.core.display.HTML object>"
            ],
            "text/html": [
              "\n",
              "     <input type=\"file\" id=\"files-d53c5267-5543-4139-bb4e-e63123cad5f3\" name=\"files[]\" multiple disabled\n",
              "        style=\"border:none\" />\n",
              "     <output id=\"result-d53c5267-5543-4139-bb4e-e63123cad5f3\">\n",
              "      Upload widget is only available when the cell has been executed in the\n",
              "      current browser session. Please rerun this cell to enable.\n",
              "      </output>\n",
              "      <script>// Copyright 2017 Google LLC\n",
              "//\n",
              "// Licensed under the Apache License, Version 2.0 (the \"License\");\n",
              "// you may not use this file except in compliance with the License.\n",
              "// You may obtain a copy of the License at\n",
              "//\n",
              "//      http://www.apache.org/licenses/LICENSE-2.0\n",
              "//\n",
              "// Unless required by applicable law or agreed to in writing, software\n",
              "// distributed under the License is distributed on an \"AS IS\" BASIS,\n",
              "// WITHOUT WARRANTIES OR CONDITIONS OF ANY KIND, either express or implied.\n",
              "// See the License for the specific language governing permissions and\n",
              "// limitations under the License.\n",
              "\n",
              "/**\n",
              " * @fileoverview Helpers for google.colab Python module.\n",
              " */\n",
              "(function(scope) {\n",
              "function span(text, styleAttributes = {}) {\n",
              "  const element = document.createElement('span');\n",
              "  element.textContent = text;\n",
              "  for (const key of Object.keys(styleAttributes)) {\n",
              "    element.style[key] = styleAttributes[key];\n",
              "  }\n",
              "  return element;\n",
              "}\n",
              "\n",
              "// Max number of bytes which will be uploaded at a time.\n",
              "const MAX_PAYLOAD_SIZE = 100 * 1024;\n",
              "\n",
              "function _uploadFiles(inputId, outputId) {\n",
              "  const steps = uploadFilesStep(inputId, outputId);\n",
              "  const outputElement = document.getElementById(outputId);\n",
              "  // Cache steps on the outputElement to make it available for the next call\n",
              "  // to uploadFilesContinue from Python.\n",
              "  outputElement.steps = steps;\n",
              "\n",
              "  return _uploadFilesContinue(outputId);\n",
              "}\n",
              "\n",
              "// This is roughly an async generator (not supported in the browser yet),\n",
              "// where there are multiple asynchronous steps and the Python side is going\n",
              "// to poll for completion of each step.\n",
              "// This uses a Promise to block the python side on completion of each step,\n",
              "// then passes the result of the previous step as the input to the next step.\n",
              "function _uploadFilesContinue(outputId) {\n",
              "  const outputElement = document.getElementById(outputId);\n",
              "  const steps = outputElement.steps;\n",
              "\n",
              "  const next = steps.next(outputElement.lastPromiseValue);\n",
              "  return Promise.resolve(next.value.promise).then((value) => {\n",
              "    // Cache the last promise value to make it available to the next\n",
              "    // step of the generator.\n",
              "    outputElement.lastPromiseValue = value;\n",
              "    return next.value.response;\n",
              "  });\n",
              "}\n",
              "\n",
              "/**\n",
              " * Generator function which is called between each async step of the upload\n",
              " * process.\n",
              " * @param {string} inputId Element ID of the input file picker element.\n",
              " * @param {string} outputId Element ID of the output display.\n",
              " * @return {!Iterable<!Object>} Iterable of next steps.\n",
              " */\n",
              "function* uploadFilesStep(inputId, outputId) {\n",
              "  const inputElement = document.getElementById(inputId);\n",
              "  inputElement.disabled = false;\n",
              "\n",
              "  const outputElement = document.getElementById(outputId);\n",
              "  outputElement.innerHTML = '';\n",
              "\n",
              "  const pickedPromise = new Promise((resolve) => {\n",
              "    inputElement.addEventListener('change', (e) => {\n",
              "      resolve(e.target.files);\n",
              "    });\n",
              "  });\n",
              "\n",
              "  const cancel = document.createElement('button');\n",
              "  inputElement.parentElement.appendChild(cancel);\n",
              "  cancel.textContent = 'Cancel upload';\n",
              "  const cancelPromise = new Promise((resolve) => {\n",
              "    cancel.onclick = () => {\n",
              "      resolve(null);\n",
              "    };\n",
              "  });\n",
              "\n",
              "  // Wait for the user to pick the files.\n",
              "  const files = yield {\n",
              "    promise: Promise.race([pickedPromise, cancelPromise]),\n",
              "    response: {\n",
              "      action: 'starting',\n",
              "    }\n",
              "  };\n",
              "\n",
              "  cancel.remove();\n",
              "\n",
              "  // Disable the input element since further picks are not allowed.\n",
              "  inputElement.disabled = true;\n",
              "\n",
              "  if (!files) {\n",
              "    return {\n",
              "      response: {\n",
              "        action: 'complete',\n",
              "      }\n",
              "    };\n",
              "  }\n",
              "\n",
              "  for (const file of files) {\n",
              "    const li = document.createElement('li');\n",
              "    li.append(span(file.name, {fontWeight: 'bold'}));\n",
              "    li.append(span(\n",
              "        `(${file.type || 'n/a'}) - ${file.size} bytes, ` +\n",
              "        `last modified: ${\n",
              "            file.lastModifiedDate ? file.lastModifiedDate.toLocaleDateString() :\n",
              "                                    'n/a'} - `));\n",
              "    const percent = span('0% done');\n",
              "    li.appendChild(percent);\n",
              "\n",
              "    outputElement.appendChild(li);\n",
              "\n",
              "    const fileDataPromise = new Promise((resolve) => {\n",
              "      const reader = new FileReader();\n",
              "      reader.onload = (e) => {\n",
              "        resolve(e.target.result);\n",
              "      };\n",
              "      reader.readAsArrayBuffer(file);\n",
              "    });\n",
              "    // Wait for the data to be ready.\n",
              "    let fileData = yield {\n",
              "      promise: fileDataPromise,\n",
              "      response: {\n",
              "        action: 'continue',\n",
              "      }\n",
              "    };\n",
              "\n",
              "    // Use a chunked sending to avoid message size limits. See b/62115660.\n",
              "    let position = 0;\n",
              "    do {\n",
              "      const length = Math.min(fileData.byteLength - position, MAX_PAYLOAD_SIZE);\n",
              "      const chunk = new Uint8Array(fileData, position, length);\n",
              "      position += length;\n",
              "\n",
              "      const base64 = btoa(String.fromCharCode.apply(null, chunk));\n",
              "      yield {\n",
              "        response: {\n",
              "          action: 'append',\n",
              "          file: file.name,\n",
              "          data: base64,\n",
              "        },\n",
              "      };\n",
              "\n",
              "      let percentDone = fileData.byteLength === 0 ?\n",
              "          100 :\n",
              "          Math.round((position / fileData.byteLength) * 100);\n",
              "      percent.textContent = `${percentDone}% done`;\n",
              "\n",
              "    } while (position < fileData.byteLength);\n",
              "  }\n",
              "\n",
              "  // All done.\n",
              "  yield {\n",
              "    response: {\n",
              "      action: 'complete',\n",
              "    }\n",
              "  };\n",
              "}\n",
              "\n",
              "scope.google = scope.google || {};\n",
              "scope.google.colab = scope.google.colab || {};\n",
              "scope.google.colab._files = {\n",
              "  _uploadFiles,\n",
              "  _uploadFilesContinue,\n",
              "};\n",
              "})(self);\n",
              "</script> "
            ]
          },
          "metadata": {}
        },
        {
          "output_type": "stream",
          "name": "stdout",
          "text": [
            "Saving BA472 Final Data Set.csv to BA472 Final Data Set (2).csv\n"
          ]
        }
      ]
    },
    {
      "cell_type": "code",
      "source": [
        "# Count the occurrences of each treatment category\n",
        "treatment_counts = data['Treatment'].value_counts()\n",
        "\n",
        "# Display the treatment counts\n",
        "treatment_counts\n"
      ],
      "metadata": {
        "id": "mJGqPYDBGLkV",
        "colab": {
          "base_uri": "https://localhost:8080/"
        },
        "outputId": "ea52e5dc-1845-4aaf-d2ec-5dabb58e7f4d"
      },
      "execution_count": 43,
      "outputs": [
        {
          "output_type": "execute_result",
          "data": {
            "text/plain": [
              "Treatment\n",
              "1    885\n",
              "0    840\n",
              "Name: count, dtype: int64"
            ]
          },
          "metadata": {},
          "execution_count": 43
        }
      ]
    },
    {
      "cell_type": "code",
      "source": [
        "# Count the occurrences of eco-friendly choices\n",
        "eco_friendly_counts = data['Choice_eco_friendly'].value_counts()\n",
        "\n",
        "# Display the eco-friendly choice counts\n",
        "eco_friendly_counts\n"
      ],
      "metadata": {
        "id": "KMQB50GiGSCz",
        "colab": {
          "base_uri": "https://localhost:8080/"
        },
        "outputId": "f12e8714-38c1-4d58-b999-1b41a7822e52"
      },
      "execution_count": 44,
      "outputs": [
        {
          "output_type": "execute_result",
          "data": {
            "text/plain": [
              "Choice_eco_friendly\n",
              "0    1018\n",
              "1     707\n",
              "Name: count, dtype: int64"
            ]
          },
          "metadata": {},
          "execution_count": 44
        }
      ]
    },
    {
      "cell_type": "code",
      "source": [
        "# Count the occurrences of control group\n",
        "control_counts = data[data['Treatment'] == 0]['Choice_eco_friendly'].value_counts()\n",
        "\n",
        "# Display the control group count\n",
        "print(\"\\nControl group count:\", control_counts)\n",
        "\n",
        "# Count the occurrences of control group\n",
        "treatment_counts = data[data['Treatment'] == 1]['Choice_eco_friendly'].value_counts()\n",
        "\n",
        "# Display the control group count\n",
        "print(\"\\nTreatment group count:\", treatment_counts)"
      ],
      "metadata": {
        "id": "Bb3Jvh3yLymF",
        "colab": {
          "base_uri": "https://localhost:8080/"
        },
        "outputId": "cf4adf9e-bcad-4b8d-afd8-339ec4f7942a"
      },
      "execution_count": 45,
      "outputs": [
        {
          "output_type": "stream",
          "name": "stdout",
          "text": [
            "\n",
            "Control group count: Choice_eco_friendly\n",
            "0    528\n",
            "1    312\n",
            "Name: count, dtype: int64\n",
            "\n",
            "Treatment group count: Choice_eco_friendly\n",
            "0    490\n",
            "1    395\n",
            "Name: count, dtype: int64\n"
          ]
        }
      ]
    },
    {
      "cell_type": "markdown",
      "source": [
        "Descriptive stats"
      ],
      "metadata": {
        "id": "56CbibN5cr99"
      }
    },
    {
      "cell_type": "code",
      "source": [
        "# Display counts for Age\n",
        "print(\"Age Distribution:\")\n",
        "print(data['Age'].value_counts())\n",
        "print(\"\\n\")  # Adds an empty line for spacing\n",
        "\n",
        "# Display counts for Gender\n",
        "print(\"Gender Distribution:\")\n",
        "print(data['Gender'].value_counts())\n",
        "print(\"\\n\")  # Adds an empty line for spacing\n",
        "\n",
        "# Display counts for Education Level\n",
        "print(\"Education Level Distribution:\")\n",
        "print(data['Education_level'].value_counts())\n",
        "print(\"\\n\")  # Adds an empty line for spacing\n",
        "\n",
        "# Display counts for Household Income\n",
        "print(\"Household Income Distribution:\")\n",
        "print(data['Household_income'].value_counts())"
      ],
      "metadata": {
        "id": "9blV4TraW4Mt",
        "colab": {
          "base_uri": "https://localhost:8080/"
        },
        "outputId": "7719e492-13e7-4f72-b8f7-fa409643d6fe"
      },
      "execution_count": 46,
      "outputs": [
        {
          "output_type": "stream",
          "name": "stdout",
          "text": [
            "Age Distribution:\n",
            "Age\n",
            "18-24          1560\n",
            "45-54            45\n",
            "25-34            45\n",
            "55-64            45\n",
            "Under 18         15\n",
            "65 and over      15\n",
            "Name: count, dtype: int64\n",
            "\n",
            "\n",
            "Gender Distribution:\n",
            "Gender\n",
            "Female                       915\n",
            "Male                         750\n",
            "Prefer not to say             45\n",
            "Non-binary / third gender     15\n",
            "Name: count, dtype: int64\n",
            "\n",
            "\n",
            "Education Level Distribution:\n",
            "Education_level\n",
            "4 year degree                           795\n",
            "Some college                            675\n",
            "Professional degree                     120\n",
            "High school graduate (including GED)     75\n",
            "Less than high school                    30\n",
            "2 year degree                            15\n",
            "Doctorate                                15\n",
            "Name: count, dtype: int64\n",
            "\n",
            "\n",
            "Household Income Distribution:\n",
            "Household_income\n",
            "$120,000+            570\n",
            "$0-$29,999           285\n",
            "$90,000-$119,000     255\n",
            "$30,000-$59,999      225\n",
            "Prefer not to say    210\n",
            "$60,000-$89,999      180\n",
            "Name: count, dtype: int64\n"
          ]
        }
      ]
    },
    {
      "cell_type": "code",
      "source": [
        "# Group by 'Age' and sum 'Treatment' and 'Choice_eco_friendly'\n",
        "age_summary = data.groupby('Age')[['Treatment', 'Choice_eco_friendly']].mean()\n",
        "print(\"Summary by Age:\")\n",
        "print(age_summary * 100)\n",
        "print(\"\\n\")\n",
        "\n",
        "# Group by 'Gender' and sum 'Treatment' and 'Choice_eco_friendly'\n",
        "gender_summary = data.groupby('Gender')[['Treatment', 'Choice_eco_friendly']].mean()\n",
        "print(\"Summary by Gender:\")\n",
        "print(gender_summary * 100)\n",
        "print(\"\\n\")\n",
        "\n",
        "# Group by 'Household_income' and sum 'Treatment' and 'Choice_eco_friendly'\n",
        "income_summary = data.groupby('Household_income')[['Treatment', 'Choice_eco_friendly']].mean()\n",
        "print(\"Summary by Household Income:\")\n",
        "print(income_summary * 100)\n",
        "print(\"\\n\")\n",
        "\n",
        "# Group by 'Education_level' and sum 'Treatment' and 'Choice_eco_friendly'\n",
        "education_summary = data.groupby('Education_level')[['Treatment', 'Choice_eco_friendly']].mean()\n",
        "print(\"Summary by Education Level:\")\n",
        "print(education_summary * 100)\n",
        "print(\"\\n\")"
      ],
      "metadata": {
        "id": "kxeTV2_nXU0v",
        "colab": {
          "base_uri": "https://localhost:8080/"
        },
        "outputId": "4373784d-8eb6-421a-8a2f-59c6d057a635"
      },
      "execution_count": 47,
      "outputs": [
        {
          "output_type": "stream",
          "name": "stdout",
          "text": [
            "Summary by Age:\n",
            "              Treatment  Choice_eco_friendly\n",
            "Age                                         \n",
            "18-24         50.961538            41.538462\n",
            "25-34         66.666667            24.444444\n",
            "45-54         33.333333            48.888889\n",
            "55-64         66.666667            31.111111\n",
            "65 and over    0.000000            60.000000\n",
            "Under 18     100.000000            20.000000\n",
            "\n",
            "\n",
            "Summary by Gender:\n",
            "                            Treatment  Choice_eco_friendly\n",
            "Gender                                                    \n",
            "Female                      59.016393            42.732240\n",
            "Male                        42.000000            37.866667\n",
            "Non-binary / third gender  100.000000            60.000000\n",
            "Prefer not to say           33.333333            51.111111\n",
            "\n",
            "\n",
            "Summary by Household Income:\n",
            "                   Treatment  Choice_eco_friendly\n",
            "Household_income                                 \n",
            "$0-$29,999         47.368421            43.859649\n",
            "$120,000+          47.368421            40.000000\n",
            "$30,000-$59,999    66.666667            41.777778\n",
            "$60,000-$89,999    41.666667            37.777778\n",
            "$90,000-$119,000   41.176471            40.784314\n",
            "Prefer not to say  71.428571            41.904762\n",
            "\n",
            "\n",
            "Summary by Education Level:\n",
            "                                       Treatment  Choice_eco_friendly\n",
            "Education_level                                                      \n",
            "2 year degree                         100.000000            60.000000\n",
            "4 year degree                          50.943396            41.006289\n",
            "Doctorate                               0.000000            33.333333\n",
            "High school graduate (including GED)  100.000000            44.000000\n",
            "Less than high school                 100.000000            40.000000\n",
            "Professional degree                    75.000000            35.833333\n",
            "Some college                           40.000000            41.333333\n",
            "\n",
            "\n"
          ]
        }
      ]
    },
    {
      "cell_type": "code",
      "source": [
        "import matplotlib.pyplot as plt\n",
        "import seaborn as sns\n",
        "\n",
        "# Plot for 'Age'\n",
        "plt.figure(figsize=(10, 6))\n",
        "sns.countplot(x='Age', hue='Treatment', data=data)\n",
        "plt.title('Treatment Counts by Age')\n",
        "plt.xlabel('Age')\n",
        "plt.ylabel('Count')\n",
        "plt.xticks(rotation=45)\n",
        "plt.legend(title='Treatment', labels=['Control', 'Treatment'])\n",
        "plt.show()\n",
        "\n",
        "# Plot for 'Gender'\n",
        "plt.figure(figsize=(10, 6))\n",
        "sns.countplot(x='Gender', hue='Treatment', data=data)\n",
        "plt.title('Treatment Counts by Gender')\n",
        "plt.xlabel('Gender')\n",
        "plt.ylabel('Count')\n",
        "plt.xticks(rotation=45)\n",
        "plt.legend(title='Treatment', labels=['Control', 'Treatment'])\n",
        "plt.show()\n",
        "\n",
        "# Plot for 'Household_income'\n",
        "plt.figure(figsize=(10, 6))\n",
        "sns.countplot(x='Household_income', hue='Treatment', data=data)\n",
        "plt.title('Treatment Counts by Household Income')\n",
        "plt.xlabel('Household Income')\n",
        "plt.ylabel('Count')\n",
        "plt.xticks(rotation=45)\n",
        "plt.legend(title='Treatment', labels=['Control', 'Treatment'])\n",
        "plt.show()\n",
        "\n",
        "# Plot for 'Education_level'\n",
        "plt.figure(figsize=(10, 6))\n",
        "sns.countplot(x='Education_level', hue='Treatment', data=data)\n",
        "plt.title('Treatment Counts by Education Level')\n",
        "plt.xlabel('Education Level')\n",
        "plt.ylabel('Count')\n",
        "plt.xticks(rotation=45)\n",
        "plt.legend(title='Treatment', labels=['Control', 'Treatment'])\n",
        "plt.show()"
      ],
      "metadata": {
        "id": "SWEo7GnsYY60",
        "colab": {
          "base_uri": "https://localhost:8080/",
          "height": 1000
        },
        "outputId": "c486a6c4-190b-4f6f-d4e4-2a89ddb9fe94"
      },
      "execution_count": 48,
      "outputs": [
        {
          "output_type": "display_data",
          "data": {
            "text/plain": [
              "<Figure size 1000x600 with 1 Axes>"
            ],
            "image/png": "[encoded data removed]"
          },
          "metadata": {}
        },
        {
          "output_type": "display_data",
          "data": {
            "text/plain": [
              "<Figure size 1000x600 with 1 Axes>"
            ],
            "image/png": "[encoded data removed]"
          },
          "metadata": {}
        },
        {
          "output_type": "display_data",
          "data": {
            "text/plain": [
              "<Figure size 1000x600 with 1 Axes>"
            ],
            "image/png": "[encoded data removed]"
          },
          "metadata": {}
        },
        {
          "output_type": "display_data",
          "data": {
            "text/plain": [
              "<Figure size 1000x600 with 1 Axes>"
            ],
            "image/png": "[encoded data removed]"
          },
          "metadata": {}
        }
      ]
    },
    {
      "cell_type": "code",
      "source": [
        "treatment_subset = data[data['Treatment'] == 1]"
      ],
      "metadata": {
        "id": "opzxhBR0Nsfq"
      },
      "execution_count": 49,
      "outputs": []
    },
    {
      "cell_type": "code",
      "source": [
        "# Plot for 'Age' based on Eco Friendly choices\n",
        "plt.figure(figsize=(10, 6))\n",
        "sns.countplot(x='Age', hue='Choice_eco_friendly', data=treatment_subset)\n",
        "plt.title('Eco Friendly Choices by Age')\n",
        "plt.xlabel('Age')\n",
        "plt.ylabel('Count')\n",
        "plt.xticks(rotation=45)\n",
        "plt.legend(title='Choice Eco Friendly', labels=['Not Eco Friendly', 'Eco Friendly'])\n",
        "plt.show()\n",
        "\n",
        "# Plot for 'Gender' based on Eco Friendly choices\n",
        "plt.figure(figsize=(10, 6))\n",
        "sns.countplot(x='Gender', hue='Choice_eco_friendly', data=treatment_subset)\n",
        "plt.title('Eco Friendly Choices by Gender')\n",
        "plt.xlabel('Gender')\n",
        "plt.ylabel('Count')\n",
        "plt.xticks(rotation=45)\n",
        "plt.legend(title='Choice Eco Friendly', labels=['Not Eco Friendly', 'Eco Friendly'])\n",
        "plt.show()\n",
        "\n",
        "# Plot for 'Household_income' based on Eco Friendly choices\n",
        "plt.figure(figsize=(10, 6))\n",
        "sns.countplot(x='Household_income', hue='Choice_eco_friendly', data=treatment_subset)\n",
        "plt.title('Eco Friendly Choices by Household Income')\n",
        "plt.xlabel('Household Income')\n",
        "plt.ylabel('Count')\n",
        "plt.xticks(rotation=45)\n",
        "plt.legend(title='Choice Eco Friendly', labels=['Not Eco Friendly', 'Eco Friendly'])\n",
        "plt.show()\n",
        "\n",
        "# Plot for 'Education_level' based on Eco Friendly choices\n",
        "plt.figure(figsize=(10, 6))\n",
        "sns.countplot(x='Education_level', hue='Choice_eco_friendly', data=treatment_subset)\n",
        "plt.title('Eco Friendly Choices by Education Level')\n",
        "plt.xlabel('Education Level')\n",
        "plt.ylabel('Count')\n",
        "plt.xticks(rotation=45)\n",
        "plt.legend(title='Choice Eco Friendly', labels=['Not Eco Friendly', 'Eco Friendly'])\n",
        "plt.show()"
      ],
      "metadata": {
        "id": "HwERJuCRY1jf",
        "colab": {
          "base_uri": "https://localhost:8080/",
          "height": 1000
        },
        "outputId": "cbccf881-e08f-41f7-def0-80772436f288"
      },
      "execution_count": 50,
      "outputs": [
        {
          "output_type": "display_data",
          "data": {
            "text/plain": [
              "<Figure size 1000x600 with 1 Axes>"
            ],
            "image/png": "[encoded data removed]"
          },
          "metadata": {}
        },
        {
          "output_type": "display_data",
          "data": {
            "text/plain": [
              "<Figure size 1000x600 with 1 Axes>"
            ],
            "image/png": "[encoded data removed]"
          },
          "metadata": {}
        },
        {
          "output_type": "display_data",
          "data": {
            "text/plain": [
              "<Figure size 1000x600 with 1 Axes>"
            ],
            "image/png": "[encoded data removed]"
          },
          "metadata": {}
        },
        {
          "output_type": "display_data",
          "data": {
            "text/plain": [
              "<Figure size 1000x600 with 1 Axes>"
            ],
            "image/png": "[encoded data removed]"
          },
          "metadata": {}
        }
      ]
    },
    {
      "cell_type": "markdown",
      "source": [
        "ATE, Cohens D, Power  "
      ],
      "metadata": {
        "id": "qBZQzXw8cvU9"
      }
    },
    {
      "cell_type": "code",
      "source": [
        "# Compute the mean outcome for the treated and control groups\n",
        "mean_outcome_treated = data[data['Treatment'] == 1]['Choice_eco_friendly'].mean()\n",
        "mean_outcome_control = data[data['Treatment'] == 0]['Choice_eco_friendly'].mean()\n",
        "\n",
        "# Calculate the Average Treatment Effect (ATE)\n",
        "ate = mean_outcome_treated - mean_outcome_control\n",
        "\n",
        "print(\"Average Treatment Effect (ATE):\", ate)"
      ],
      "metadata": {
        "id": "dUy38VljZJ8T",
        "colab": {
          "base_uri": "https://localhost:8080/"
        },
        "outputId": "3ff49850-8b99-49d8-827d-09257c643d36"
      },
      "execution_count": 51,
      "outputs": [
        {
          "output_type": "stream",
          "name": "stdout",
          "text": [
            "Average Treatment Effect (ATE): 0.07489911218724776\n"
          ]
        }
      ]
    },
    {
      "cell_type": "code",
      "source": [
        "from scipy.stats import ttest_ind\n",
        "\n",
        "# Split the data into treated and control groups\n",
        "treated_group = data[data['Treatment'] == 1]['Choice_eco_friendly']\n",
        "control_group = data[data['Treatment'] == 0]['Choice_eco_friendly']\n",
        "\n",
        "# Perform the t-test\n",
        "t_stat, p_value = ttest_ind(treated_group, control_group)\n",
        "\n",
        "print(\"T-Statistic:\", t_stat)\n",
        "print(\"P-Value:\", p_value)"
      ],
      "metadata": {
        "id": "9h73mnvZZp-u",
        "colab": {
          "base_uri": "https://localhost:8080/"
        },
        "outputId": "9119a8fd-246c-430f-a30b-2ad42b08730e"
      },
      "execution_count": 52,
      "outputs": [
        {
          "output_type": "stream",
          "name": "stdout",
          "text": [
            "T-Statistic: 3.1689025881200905\n",
            "P-Value: 0.00155701828324268\n"
          ]
        }
      ]
    },
    {
      "cell_type": "code",
      "source": [
        "from statsmodels.stats.power import TTestIndPower\n",
        "\n",
        "# Split the data into treated and control groups\n",
        "treated = data[data['Treatment'] == 1]['Choice_eco_friendly']\n",
        "control = data[data['Treatment'] == 0]['Choice_eco_friendly']\n",
        "\n",
        "# Calculate means and standard deviations\n",
        "mean_treated = treated.mean()\n",
        "mean_control = control.mean()\n",
        "sd_treated = treated.std()\n",
        "sd_control = control.std()\n",
        "\n",
        "# Calculate pooled standard deviation\n",
        "n_treated, n_control = len(treated), len(control)\n",
        "pooled_sd = ((n_treated - 1) * sd_treated**2 + (n_control - 1) * sd_control**2) / (n_treated + n_control - 2)\n",
        "pooled_sd = pooled_sd**0.5\n",
        "\n",
        "# Calculate Cohen's d\n",
        "cohens_d = (mean_treated - mean_control) / pooled_sd\n",
        "\n",
        "# Calculate power\n",
        "effect_size = cohens_d\n",
        "alpha = 0.05\n",
        "power_analysis = TTestIndPower()\n",
        "power = power_analysis.solve_power(effect_size=effect_size, nobs1=n_treated, ratio=(n_control / n_treated), alpha=alpha)\n",
        "\n",
        "print(\"Cohen's d:\", cohens_d)\n",
        "print(\"Power of the test:\", power)"
      ],
      "metadata": {
        "id": "D3gAonHUc1YT",
        "colab": {
          "base_uri": "https://localhost:8080/"
        },
        "outputId": "454b0e32-80c2-4f44-9da1-556aede0c217"
      },
      "execution_count": 53,
      "outputs": [
        {
          "output_type": "stream",
          "name": "stdout",
          "text": [
            "Cohen's d: 0.15264836624939832\n",
            "Power of the test: 0.8863171425613222\n"
          ]
        }
      ]
    },
    {
      "cell_type": "markdown",
      "source": [
        "### Regressions"
      ],
      "metadata": {
        "id": "P_vPYcVkdAAI"
      }
    },
    {
      "cell_type": "markdown",
      "source": [
        "Normal regression"
      ],
      "metadata": {
        "id": "T8JC71UqefWH"
      }
    },
    {
      "cell_type": "code",
      "source": [
        "pip install stargazer"
      ],
      "metadata": {
        "id": "e_h1FXkIdXEz",
        "colab": {
          "base_uri": "https://localhost:8080/"
        },
        "outputId": "739173e7-2336-46c8-9e82-6346be929d07"
      },
      "execution_count": 54,
      "outputs": [
        {
          "output_type": "stream",
          "name": "stdout",
          "text": [
            "Requirement already satisfied: stargazer in /usr/local/lib/python3.10/dist-packages (0.0.7)\n"
          ]
        }
      ]
    },
    {
      "cell_type": "code",
      "source": [
        "import statsmodels.api as sm\n",
        "from stargazer.stargazer import Stargazer\n",
        "# Linear Regression (lm)\n",
        "\n",
        "feols = sm.OLS.from_formula('Choice_eco_friendly ~ Treatment', data=data).fit(cov_type='HC3')\n",
        "\n",
        "Stargazer([feols])"
      ],
      "metadata": {
        "id": "8WnKkkDFcYHb",
        "colab": {
          "base_uri": "https://localhost:8080/",
          "height": 315
        },
        "outputId": "69586b6b-2a5f-49c3-9307-2d63cf66b2ee"
      },
      "execution_count": 55,
      "outputs": [
        {
          "output_type": "execute_result",
          "data": {
            "text/plain": [
              "<stargazer.stargazer.Stargazer at 0x7d65f6f27ac0>"
            ],
            "text/html": [
              "<table style=\"text-align:center\"><tr><td colspan=\"2\" style=\"border-bottom: 1px solid black\"></td></tr>\n",
              "<tr><td style=\"text-align:left\"></td><td colspan=\"1\"><em>Dependent variable: Choice_eco_friendly</em></td></tr><tr><td style=\"text-align:left\"></td><tr><td style=\"text-align:left\"></td><td>(1)</td></tr>\n",
              "<tr><td colspan=\"2\" style=\"border-bottom: 1px solid black\"></td></tr>\n",
              "\n",
              "<tr><td style=\"text-align:left\">Intercept</td><td>0.371<sup>***</sup></td></tr>\n",
              "<tr><td style=\"text-align:left\"></td><td>(0.017)</td></tr>\n",
              "<tr><td style=\"text-align:left\">Treatment</td><td>0.075<sup>***</sup></td></tr>\n",
              "<tr><td style=\"text-align:left\"></td><td>(0.024)</td></tr>\n",
              "\n",
              "<td colspan=\"2\" style=\"border-bottom: 1px solid black\"></td></tr>\n",
              "<tr><td style=\"text-align: left\">Observations</td><td>1725</td></tr><tr><td style=\"text-align: left\">R<sup>2</sup></td><td>0.006</td></tr><tr><td style=\"text-align: left\">Adjusted R<sup>2</sup></td><td>0.005</td></tr><tr><td style=\"text-align: left\">Residual Std. Error</td><td>0.491 (df=1723)</td></tr><tr><td style=\"text-align: left\">F Statistic</td><td>10.045<sup>***</sup> (df=1; 1723)</td></tr>\n",
              "<tr><td colspan=\"2\" style=\"border-bottom: 1px solid black\"></td></tr><tr><td style=\"text-align: left\">Note:</td><td colspan=\"1\" style=\"text-align: right\"><sup>*</sup>p&lt;0.1; <sup>**</sup>p&lt;0.05; <sup>***</sup>p&lt;0.01</td></tr></table>"
            ]
          },
          "metadata": {},
          "execution_count": 55
        }
      ]
    },
    {
      "cell_type": "markdown",
      "source": [
        "Covariate regression 1 - just demographics"
      ],
      "metadata": {
        "id": "BJS1i7EbCIr_"
      }
    },
    {
      "cell_type": "code",
      "source": [
        "# Create dummy variables for the specified columns\n",
        "age_dummies = pd.get_dummies(data['Age'], prefix='Age')\n",
        "gender_dummies = pd.get_dummies(data['Gender'], prefix='Gender')\n",
        "income_dummies = pd.get_dummies(data['Household_income'], prefix='Income')\n",
        "education_dummies = pd.get_dummies(data['Education_level'], prefix='Edu')\n",
        "\n",
        "# Concatenate the dummy variables with the original dataframe\n",
        "data = pd.concat([data, age_dummies, gender_dummies, income_dummies, education_dummies], axis=1)\n",
        "\n",
        "data.head()"
      ],
      "metadata": {
        "id": "EW2UERt1ekVI",
        "colab": {
          "base_uri": "https://localhost:8080/",
          "height": 411
        },
        "outputId": "56ff848a-382f-437c-b0c9-67fe7eeda126"
      },
      "execution_count": 56,
      "outputs": [
        {
          "output_type": "execute_result",
          "data": {
            "text/plain": [
              "                   Response  Person_number  Question_Number  Treatment  \\\n",
              "0     Flight1_Eco_Treatment              1                1          1   \n",
              "1     Flight2_Eco_Treatment              1                2          1   \n",
              "2     Flight3_Eco_Treatment              1                3          1   \n",
              "3     Flight4_Eco_Treatment              1                4          1   \n",
              "4  Flight5_NonEco_Treatment              1                5          1   \n",
              "\n",
              "   Choice_eco_friendly    Age  Gender Education_level   Household_income  \\\n",
              "0                    1  18-24  Female    Some college  Prefer not to say   \n",
              "1                    1  18-24  Female    Some college  Prefer not to say   \n",
              "2                    1  18-24  Female    Some college  Prefer not to say   \n",
              "3                    1  18-24  Female    Some college  Prefer not to say   \n",
              "4                    0  18-24  Female    Some college  Prefer not to say   \n",
              "\n",
              "   Eco_price  ... Income_$60,000-$89,999 Income_$90,000-$119,000  \\\n",
              "0        203  ...                  False                   False   \n",
              "1        193  ...                  False                   False   \n",
              "2        203  ...                  False                   False   \n",
              "3        208  ...                  False                   False   \n",
              "4        239  ...                  False                   False   \n",
              "\n",
              "  Income_Prefer not to say  Edu_2 year degree  Edu_4 year degree  \\\n",
              "0                     True              False              False   \n",
              "1                     True              False              False   \n",
              "2                     True              False              False   \n",
              "3                     True              False              False   \n",
              "4                     True              False              False   \n",
              "\n",
              "   Edu_Doctorate  Edu_High school graduate (including GED)  \\\n",
              "0          False                                     False   \n",
              "1          False                                     False   \n",
              "2          False                                     False   \n",
              "3          False                                     False   \n",
              "4          False                                     False   \n",
              "\n",
              "  Edu_Less than high school Edu_Professional degree Edu_Some college  \n",
              "0                     False                   False             True  \n",
              "1                     False                   False             True  \n",
              "2                     False                   False             True  \n",
              "3                     False                   False             True  \n",
              "4                     False                   False             True  \n",
              "\n",
              "[5 rows x 46 columns]"
            ],
            "text/html": [
              "\n",
              "  <div id=\"df-f947fc4f-52e9-4267-89cf-6263ca920003\" class=\"colab-df-container\">\n",
              "    <div>\n",
              "<style scoped>\n",
              "    .dataframe tbody tr th:only-of-type {\n",
              "        vertical-align: middle;\n",
              "    }\n",
              "\n",
              "    .dataframe tbody tr th {\n",
              "        vertical-align: top;\n",
              "    }\n",
              "\n",
              "    .dataframe thead th {\n",
              "        text-align: right;\n",
              "    }\n",
              "</style>\n",
              "<table border=\"1\" class=\"dataframe\">\n",
              "  <thead>\n",
              "    <tr style=\"text-align: right;\">\n",
              "      <th></th>\n",
              "      <th>Response</th>\n",
              "      <th>Person_number</th>\n",
              "      <th>Question_Number</th>\n",
              "      <th>Treatment</th>\n",
              "      <th>Choice_eco_friendly</th>\n",
              "      <th>Age</th>\n",
              "      <th>Gender</th>\n",
              "      <th>Education_level</th>\n",
              "      <th>Household_income</th>\n",
              "      <th>Eco_price</th>\n",
              "      <th>...</th>\n",
              "      <th>Income_$60,000-$89,999</th>\n",
              "      <th>Income_$90,000-$119,000</th>\n",
              "      <th>Income_Prefer not to say</th>\n",
              "      <th>Edu_2 year degree</th>\n",
              "      <th>Edu_4 year degree</th>\n",
              "      <th>Edu_Doctorate</th>\n",
              "      <th>Edu_High school graduate (including GED)</th>\n",
              "      <th>Edu_Less than high school</th>\n",
              "      <th>Edu_Professional degree</th>\n",
              "      <th>Edu_Some college</th>\n",
              "    </tr>\n",
              "  </thead>\n",
              "  <tbody>\n",
              "    <tr>\n",
              "      <th>0</th>\n",
              "      <td>Flight1_Eco_Treatment</td>\n",
              "      <td>1</td>\n",
              "      <td>1</td>\n",
              "      <td>1</td>\n",
              "      <td>1</td>\n",
              "      <td>18-24</td>\n",
              "      <td>Female</td>\n",
              "      <td>Some college</td>\n",
              "      <td>Prefer not to say</td>\n",
              "      <td>203</td>\n",
              "      <td>...</td>\n",
              "      <td>False</td>\n",
              "      <td>False</td>\n",
              "      <td>True</td>\n",
              "      <td>False</td>\n",
              "      <td>False</td>\n",
              "      <td>False</td>\n",
              "      <td>False</td>\n",
              "      <td>False</td>\n",
              "      <td>False</td>\n",
              "      <td>True</td>\n",
              "    </tr>\n",
              "    <tr>\n",
              "      <th>1</th>\n",
              "      <td>Flight2_Eco_Treatment</td>\n",
              "      <td>1</td>\n",
              "      <td>2</td>\n",
              "      <td>1</td>\n",
              "      <td>1</td>\n",
              "      <td>18-24</td>\n",
              "      <td>Female</td>\n",
              "      <td>Some college</td>\n",
              "      <td>Prefer not to say</td>\n",
              "      <td>193</td>\n",
              "      <td>...</td>\n",
              "      <td>False</td>\n",
              "      <td>False</td>\n",
              "      <td>True</td>\n",
              "      <td>False</td>\n",
              "      <td>False</td>\n",
              "      <td>False</td>\n",
              "      <td>False</td>\n",
              "      <td>False</td>\n",
              "      <td>False</td>\n",
              "      <td>True</td>\n",
              "    </tr>\n",
              "    <tr>\n",
              "      <th>2</th>\n",
              "      <td>Flight3_Eco_Treatment</td>\n",
              "      <td>1</td>\n",
              "      <td>3</td>\n",
              "      <td>1</td>\n",
              "      <td>1</td>\n",
              "      <td>18-24</td>\n",
              "      <td>Female</td>\n",
              "      <td>Some college</td>\n",
              "      <td>Prefer not to say</td>\n",
              "      <td>203</td>\n",
              "      <td>...</td>\n",
              "      <td>False</td>\n",
              "      <td>False</td>\n",
              "      <td>True</td>\n",
              "      <td>False</td>\n",
              "      <td>False</td>\n",
              "      <td>False</td>\n",
              "      <td>False</td>\n",
              "      <td>False</td>\n",
              "      <td>False</td>\n",
              "      <td>True</td>\n",
              "    </tr>\n",
              "    <tr>\n",
              "      <th>3</th>\n",
              "      <td>Flight4_Eco_Treatment</td>\n",
              "      <td>1</td>\n",
              "      <td>4</td>\n",
              "      <td>1</td>\n",
              "      <td>1</td>\n",
              "      <td>18-24</td>\n",
              "      <td>Female</td>\n",
              "      <td>Some college</td>\n",
              "      <td>Prefer not to say</td>\n",
              "      <td>208</td>\n",
              "      <td>...</td>\n",
              "      <td>False</td>\n",
              "      <td>False</td>\n",
              "      <td>True</td>\n",
              "      <td>False</td>\n",
              "      <td>False</td>\n",
              "      <td>False</td>\n",
              "      <td>False</td>\n",
              "      <td>False</td>\n",
              "      <td>False</td>\n",
              "      <td>True</td>\n",
              "    </tr>\n",
              "    <tr>\n",
              "      <th>4</th>\n",
              "      <td>Flight5_NonEco_Treatment</td>\n",
              "      <td>1</td>\n",
              "      <td>5</td>\n",
              "      <td>1</td>\n",
              "      <td>0</td>\n",
              "      <td>18-24</td>\n",
              "      <td>Female</td>\n",
              "      <td>Some college</td>\n",
              "      <td>Prefer not to say</td>\n",
              "      <td>239</td>\n",
              "      <td>...</td>\n",
              "      <td>False</td>\n",
              "      <td>False</td>\n",
              "      <td>True</td>\n",
              "      <td>False</td>\n",
              "      <td>False</td>\n",
              "      <td>False</td>\n",
              "      <td>False</td>\n",
              "      <td>False</td>\n",
              "      <td>False</td>\n",
              "      <td>True</td>\n",
              "    </tr>\n",
              "  </tbody>\n",
              "</table>\n",
              "<p>5 rows × 46 columns</p>\n",
              "</div>\n",
              "    <div class=\"colab-df-buttons\">\n",
              "\n",
              "  <div class=\"colab-df-container\">\n",
              "    <button class=\"colab-df-convert\" onclick=\"convertToInteractive('df-f947fc4f-52e9-4267-89cf-6263ca920003')\"\n",
              "            title=\"Convert this dataframe to an interactive table.\"\n",
              "            style=\"display:none;\">\n",
              "\n",
              "  <svg xmlns=\"http://www.w3.org/2000/svg\" height=\"24px\" viewBox=\"0 -960 960 960\">\n",
              "    <path d=\"M120-120v-720h720v720H120Zm60-500h600v-160H180v160Zm220 220h160v-160H400v160Zm0 220h160v-160H400v160ZM180-400h160v-160H180v160Zm440 0h160v-160H620v160ZM180-180h160v-160H180v160Zm440 0h160v-160H620v160Z\"/>\n",
              "  </svg>\n",
              "    </button>\n",
              "\n",
              "  <style>\n",
              "    .colab-df-container {\n",
              "      display:flex;\n",
              "      gap: 12px;\n",
              "    }\n",
              "\n",
              "    .colab-df-convert {\n",
              "      background-color: #E8F0FE;\n",
              "      border: none;\n",
              "      border-radius: 50%;\n",
              "      cursor: pointer;\n",
              "      display: none;\n",
              "      fill: #1967D2;\n",
              "      height: 32px;\n",
              "      padding: 0 0 0 0;\n",
              "      width: 32px;\n",
              "    }\n",
              "\n",
              "    .colab-df-convert:hover {\n",
              "      background-color: #E2EBFA;\n",
              "      box-shadow: 0px 1px 2px rgba(60, 64, 67, 0.3), 0px 1px 3px 1px rgba(60, 64, 67, 0.15);\n",
              "      fill: #174EA6;\n",
              "    }\n",
              "\n",
              "    .colab-df-buttons div {\n",
              "      margin-bottom: 4px;\n",
              "    }\n",
              "\n",
              "    [theme=dark] .colab-df-convert {\n",
              "      background-color: #3B4455;\n",
              "      fill: #D2E3FC;\n",
              "    }\n",
              "\n",
              "    [theme=dark] .colab-df-convert:hover {\n",
              "      background-color: #434B5C;\n",
              "      box-shadow: 0px 1px 3px 1px rgba(0, 0, 0, 0.15);\n",
              "      filter: drop-shadow(0px 1px 2px rgba(0, 0, 0, 0.3));\n",
              "      fill: #FFFFFF;\n",
              "    }\n",
              "  </style>\n",
              "\n",
              "    <script>\n",
              "      const buttonEl =\n",
              "        document.querySelector('#df-f947fc4f-52e9-4267-89cf-6263ca920003 button.colab-df-convert');\n",
              "      buttonEl.style.display =\n",
              "        google.colab.kernel.accessAllowed ? 'block' : 'none';\n",
              "\n",
              "      async function convertToInteractive(key) {\n",
              "        const element = document.querySelector('#df-f947fc4f-52e9-4267-89cf-6263ca920003');\n",
              "        const dataTable =\n",
              "          await google.colab.kernel.invokeFunction('convertToInteractive',\n",
              "                                                    [key], {});\n",
              "        if (!dataTable) return;\n",
              "\n",
              "        const docLinkHtml = 'Like what you see? Visit the ' +\n",
              "          '<a target=\"_blank\" href=https://colab.research.google.com/notebooks/data_table.ipynb>data table notebook</a>'\n",
              "          + ' to learn more about interactive tables.';\n",
              "        element.innerHTML = '';\n",
              "        dataTable['output_type'] = 'display_data';\n",
              "        await google.colab.output.renderOutput(dataTable, element);\n",
              "        const docLink = document.createElement('div');\n",
              "        docLink.innerHTML = docLinkHtml;\n",
              "        element.appendChild(docLink);\n",
              "      }\n",
              "    </script>\n",
              "  </div>\n",
              "\n",
              "\n",
              "<div id=\"df-3977fb23-97da-47a7-8c1e-1448ad5429fb\">\n",
              "  <button class=\"colab-df-quickchart\" onclick=\"quickchart('df-3977fb23-97da-47a7-8c1e-1448ad5429fb')\"\n",
              "            title=\"Suggest charts\"\n",
              "            style=\"display:none;\">\n",
              "\n",
              "<svg xmlns=\"http://www.w3.org/2000/svg\" height=\"24px\"viewBox=\"0 0 24 24\"\n",
              "     width=\"24px\">\n",
              "    <g>\n",
              "        <path d=\"M19 3H5c-1.1 0-2 .9-2 2v14c0 1.1.9 2 2 2h14c1.1 0 2-.9 2-2V5c0-1.1-.9-2-2-2zM9 17H7v-7h2v7zm4 0h-2V7h2v10zm4 0h-2v-4h2v4z\"/>\n",
              "    </g>\n",
              "</svg>\n",
              "  </button>\n",
              "\n",
              "<style>\n",
              "  .colab-df-quickchart {\n",
              "      --bg-color: #E8F0FE;\n",
              "      --fill-color: #1967D2;\n",
              "      --hover-bg-color: #E2EBFA;\n",
              "      --hover-fill-color: #174EA6;\n",
              "      --disabled-fill-color: #AAA;\n",
              "      --disabled-bg-color: #DDD;\n",
              "  }\n",
              "\n",
              "  [theme=dark] .colab-df-quickchart {\n",
              "      --bg-color: #3B4455;\n",
              "      --fill-color: #D2E3FC;\n",
              "      --hover-bg-color: #434B5C;\n",
              "      --hover-fill-color: #FFFFFF;\n",
              "      --disabled-bg-color: #3B4455;\n",
              "      --disabled-fill-color: #666;\n",
              "  }\n",
              "\n",
              "  .colab-df-quickchart {\n",
              "    background-color: var(--bg-color);\n",
              "    border: none;\n",
              "    border-radius: 50%;\n",
              "    cursor: pointer;\n",
              "    display: none;\n",
              "    fill: var(--fill-color);\n",
              "    height: 32px;\n",
              "    padding: 0;\n",
              "    width: 32px;\n",
              "  }\n",
              "\n",
              "  .colab-df-quickchart:hover {\n",
              "    background-color: var(--hover-bg-color);\n",
              "    box-shadow: 0 1px 2px rgba(60, 64, 67, 0.3), 0 1px 3px 1px rgba(60, 64, 67, 0.15);\n",
              "    fill: var(--button-hover-fill-color);\n",
              "  }\n",
              "\n",
              "  .colab-df-quickchart-complete:disabled,\n",
              "  .colab-df-quickchart-complete:disabled:hover {\n",
              "    background-color: var(--disabled-bg-color);\n",
              "    fill: var(--disabled-fill-color);\n",
              "    box-shadow: none;\n",
              "  }\n",
              "\n",
              "  .colab-df-spinner {\n",
              "    border: 2px solid var(--fill-color);\n",
              "    border-color: transparent;\n",
              "    border-bottom-color: var(--fill-color);\n",
              "    animation:\n",
              "      spin 1s steps(1) infinite;\n",
              "  }\n",
              "\n",
              "  @keyframes spin {\n",
              "    0% {\n",
              "      border-color: transparent;\n",
              "      border-bottom-color: var(--fill-color);\n",
              "      border-left-color: var(--fill-color);\n",
              "    }\n",
              "    20% {\n",
              "      border-color: transparent;\n",
              "      border-left-color: var(--fill-color);\n",
              "      border-top-color: var(--fill-color);\n",
              "    }\n",
              "    30% {\n",
              "      border-color: transparent;\n",
              "      border-left-color: var(--fill-color);\n",
              "      border-top-color: var(--fill-color);\n",
              "      border-right-color: var(--fill-color);\n",
              "    }\n",
              "    40% {\n",
              "      border-color: transparent;\n",
              "      border-right-color: var(--fill-color);\n",
              "      border-top-color: var(--fill-color);\n",
              "    }\n",
              "    60% {\n",
              "      border-color: transparent;\n",
              "      border-right-color: var(--fill-color);\n",
              "    }\n",
              "    80% {\n",
              "      border-color: transparent;\n",
              "      border-right-color: var(--fill-color);\n",
              "      border-bottom-color: var(--fill-color);\n",
              "    }\n",
              "    90% {\n",
              "      border-color: transparent;\n",
              "      border-bottom-color: var(--fill-color);\n",
              "    }\n",
              "  }\n",
              "</style>\n",
              "\n",
              "  <script>\n",
              "    async function quickchart(key) {\n",
              "      const quickchartButtonEl =\n",
              "        document.querySelector('#' + key + ' button');\n",
              "      quickchartButtonEl.disabled = true;  // To prevent multiple clicks.\n",
              "      quickchartButtonEl.classList.add('colab-df-spinner');\n",
              "      try {\n",
              "        const charts = await google.colab.kernel.invokeFunction(\n",
              "            'suggestCharts', [key], {});\n",
              "      } catch (error) {\n",
              "        console.error('Error during call to suggestCharts:', error);\n",
              "      }\n",
              "      quickchartButtonEl.classList.remove('colab-df-spinner');\n",
              "      quickchartButtonEl.classList.add('colab-df-quickchart-complete');\n",
              "    }\n",
              "    (() => {\n",
              "      let quickchartButtonEl =\n",
              "        document.querySelector('#df-3977fb23-97da-47a7-8c1e-1448ad5429fb button');\n",
              "      quickchartButtonEl.style.display =\n",
              "        google.colab.kernel.accessAllowed ? 'block' : 'none';\n",
              "    })();\n",
              "  </script>\n",
              "</div>\n",
              "\n",
              "    </div>\n",
              "  </div>\n"
            ],
            "application/vnd.google.colaboratory.intrinsic+json": {
              "type": "dataframe",
              "variable_name": "data"
            }
          },
          "metadata": {},
          "execution_count": 56
        }
      ]
    },
    {
      "cell_type": "code",
      "source": [
        "import pandas as pd\n",
        "\n",
        "# Assuming your DataFrame is named 'df'\n",
        "boolean_columns = ['Age_18-24', 'Age_25-34', 'Age_45-54', 'Age_55-64', 'Age_65 and over',\n",
        "                   'Age_Under 18', 'Gender_Female', 'Gender_Male', 'Gender_Non-binary / third gender',\n",
        "                   'Gender_Prefer not to say', 'Income_$0-$29,999', 'Income_$120,000+',\n",
        "                   'Income_$30,000-$59,999', 'Income_$60,000-$89,999', 'Income_$90,000-$119,000',\n",
        "                   'Income_Prefer not to say', 'Edu_2 year degree', 'Edu_4 year degree',\n",
        "                   'Edu_Doctorate', 'Edu_High school graduate (including GED)',\n",
        "                   'Edu_Less than high school', 'Edu_Professional degree', 'Edu_Some college']\n",
        "\n",
        "# Convert boolean values to numeric\n",
        "data[boolean_columns] = data[boolean_columns].astype(int)"
      ],
      "metadata": {
        "id": "RFjW49aHCz5x"
      },
      "execution_count": 57,
      "outputs": []
    },
    {
      "cell_type": "code",
      "source": [
        "# Assuming your DataFrame is named 'data'\n",
        "data.rename(columns={'Age_18-24': 'Age_18_24'}, inplace=True)\n"
      ],
      "metadata": {
        "id": "RAZwbVSvEWm5"
      },
      "execution_count": 58,
      "outputs": []
    },
    {
      "cell_type": "code",
      "source": [
        "# Assuming your DataFrame is named 'data'\n",
        "data.rename(columns={'Age_25-34': 'Age_25_34',\n",
        "                     'Age_45-54': 'Age_45_54',\n",
        "                     'Age_55-64': 'Age_55_64',\n",
        "                     'Income_$0-$29,999': 'Income_$0_$29,999',\n",
        "                     'Income_$120,000+': 'Income_$120,000+',\n",
        "                     'Income_$30,000-$59,999': 'Income_$30,000_$59,999',\n",
        "                     'Income_$60,000-$89,999': 'Income_$60,000_$89,999',\n",
        "                     'Income_$90,000-$119,000': 'Income_$90,000_$119,000'}, inplace=True)"
      ],
      "metadata": {
        "id": "fDhjyavKEvIR"
      },
      "execution_count": 59,
      "outputs": []
    },
    {
      "cell_type": "code",
      "source": [
        "# Assuming your DataFrame is named 'data'\n",
        "data.rename(columns={'Income_$0_$29,999': 'Income_0_29999',\n",
        "                     'Income_$120,000+': 'Income_120000+',\n",
        "                     'Income_$30,000_$59,999': 'Income_30000_59999',\n",
        "                     'Income_$60,000_$89,999': 'Income_60000_89999',\n",
        "                     'Income_$90,000_$119,000': 'Income_90000_119000'}, inplace=True)"
      ],
      "metadata": {
        "id": "bWCyGqy-Fw0A"
      },
      "execution_count": 60,
      "outputs": []
    },
    {
      "cell_type": "code",
      "source": [
        "# Assuming your DataFrame is named 'data'\n",
        "data.rename(columns={'Age_65 and over': 'Age_65_and_over',\n",
        "                     'Age_Under 18': 'Age_Under_18',\n",
        "                     'Gender_Non-binary / third gender': 'Gender_Non_binary_third_gender',\n",
        "                     'Income_120000+': 'Income_120000+',\n",
        "                     'Income_Prefer not to say': 'Income_Prefer_not_to_say',\n",
        "                     'Edu_2 year degree': 'Edu_2_year_degree',\n",
        "                     'Edu_4 year degree': 'Edu_4_year_degree',\n",
        "                     'Edu_High school graduate (including GED)': 'Edu_High_school_graduate_including_GED',\n",
        "                     'Edu_Less than high school': 'Edu_Less_than_high_school',\n",
        "                     'Edu_Professional degree': 'Edu_Professional_degree',\n",
        "                     'Edu_Some college': 'Edu_Some_college','Gender_Prefer not to say': 'Gender_Prefer_not_to_say', 'Income_120000+': 'Income_120000'}, inplace=True)"
      ],
      "metadata": {
        "id": "9LCshg6eGdL1"
      },
      "execution_count": 61,
      "outputs": []
    },
    {
      "cell_type": "code",
      "source": [
        "import statsmodels.api as sm\n",
        "from stargazer.stargazer import Stargazer\n",
        "\n",
        "# Assuming 'data' is your DataFrame\n",
        "feols = sm.OLS.from_formula('Choice_eco_friendly ~ Treatment + Age_18_24 + Gender_Female + Edu_4_year_degree + Income_120000',\n",
        "                            data=data).fit(cov_type='HC3')\n",
        "\n",
        "Stargazer([feols])"
      ],
      "metadata": {
        "id": "cg-GrvsHdzbl",
        "colab": {
          "base_uri": "https://localhost:8080/",
          "height": 499
        },
        "outputId": "a368fdf0-790e-4ebb-e4c1-5a89a6615f98"
      },
      "execution_count": 62,
      "outputs": [
        {
          "output_type": "execute_result",
          "data": {
            "text/plain": [
              "<stargazer.stargazer.Stargazer at 0x7d65f6f26e30>"
            ],
            "text/html": [
              "<table style=\"text-align:center\"><tr><td colspan=\"2\" style=\"border-bottom: 1px solid black\"></td></tr>\n",
              "<tr><td style=\"text-align:left\"></td><td colspan=\"1\"><em>Dependent variable: Choice_eco_friendly</em></td></tr><tr><td style=\"text-align:left\"></td><tr><td style=\"text-align:left\"></td><td>(1)</td></tr>\n",
              "<tr><td colspan=\"2\" style=\"border-bottom: 1px solid black\"></td></tr>\n",
              "\n",
              "<tr><td style=\"text-align:left\">Age_18_24</td><td>0.064<sup></sup></td></tr>\n",
              "<tr><td style=\"text-align:left\"></td><td>(0.042)</td></tr>\n",
              "<tr><td style=\"text-align:left\">Edu_4_year_degree</td><td>-0.004<sup></sup></td></tr>\n",
              "<tr><td style=\"text-align:left\"></td><td>(0.024)</td></tr>\n",
              "<tr><td style=\"text-align:left\">Gender_Female</td><td>0.026<sup></sup></td></tr>\n",
              "<tr><td style=\"text-align:left\"></td><td>(0.024)</td></tr>\n",
              "<tr><td style=\"text-align:left\">Income_120000</td><td>0.005<sup></sup></td></tr>\n",
              "<tr><td style=\"text-align:left\"></td><td>(0.027)</td></tr>\n",
              "<tr><td style=\"text-align:left\">Intercept</td><td>0.302<sup>***</sup></td></tr>\n",
              "<tr><td style=\"text-align:left\"></td><td>(0.048)</td></tr>\n",
              "<tr><td style=\"text-align:left\">Treatment</td><td>0.072<sup>***</sup></td></tr>\n",
              "<tr><td style=\"text-align:left\"></td><td>(0.024)</td></tr>\n",
              "\n",
              "<td colspan=\"2\" style=\"border-bottom: 1px solid black\"></td></tr>\n",
              "<tr><td style=\"text-align: left\">Observations</td><td>1725</td></tr><tr><td style=\"text-align: left\">R<sup>2</sup></td><td>0.008</td></tr><tr><td style=\"text-align: left\">Adjusted R<sup>2</sup></td><td>0.005</td></tr><tr><td style=\"text-align: left\">Residual Std. Error</td><td>0.491 (df=1719)</td></tr><tr><td style=\"text-align: left\">F Statistic</td><td>2.660<sup>**</sup> (df=5; 1719)</td></tr>\n",
              "<tr><td colspan=\"2\" style=\"border-bottom: 1px solid black\"></td></tr><tr><td style=\"text-align: left\">Note:</td><td colspan=\"1\" style=\"text-align: right\"><sup>*</sup>p&lt;0.1; <sup>**</sup>p&lt;0.05; <sup>***</sup>p&lt;0.01</td></tr></table>"
            ]
          },
          "metadata": {},
          "execution_count": 62
        }
      ]
    },
    {
      "cell_type": "markdown",
      "source": [
        "Covariate regression 2 - flight specific info"
      ],
      "metadata": {
        "id": "fWAwZXnqJEBz"
      }
    },
    {
      "cell_type": "code",
      "source": [
        "data['Eco_Arrival_Airport'].unique()"
      ],
      "metadata": {
        "id": "OKTk2JW_unl_",
        "colab": {
          "base_uri": "https://localhost:8080/"
        },
        "outputId": "11d6cf93-a908-4b03-8a28-2173edd8bc57"
      },
      "execution_count": 63,
      "outputs": [
        {
          "output_type": "execute_result",
          "data": {
            "text/plain": [
              "array(['IAD', 'IAH', 'SFO', 'DFW', 'PHX', 'LAX', 'BOS', 'BUF', 'LHR'],\n",
              "      dtype=object)"
            ]
          },
          "metadata": {},
          "execution_count": 63
        }
      ]
    },
    {
      "cell_type": "code",
      "source": [
        "import statsmodels.api as sm\n",
        "from stargazer.stargazer import Stargazer\n",
        "\n",
        "# Assuming 'data' is your DataFrame\n",
        "feols = sm.OLS.from_formula('Choice_eco_friendly ~ Treatment + Eco_price + Eco_Airline + Eco_Flight_Length + Eco_Departure_Airport + Eco_Arrival_Airport',\n",
        "                            data=data).fit(cov_type='HC3')\n",
        "\n",
        "Stargazer([feols])"
      ],
      "metadata": {
        "id": "fTNBySLLJ33s",
        "colab": {
          "base_uri": "https://localhost:8080/",
          "height": 1000
        },
        "outputId": "bf83e5f4-e44a-4291-ac70-217485f3b322"
      },
      "execution_count": 64,
      "outputs": [
        {
          "output_type": "stream",
          "name": "stderr",
          "text": [
            "/usr/local/lib/python3.10/dist-packages/statsmodels/base/model.py:1894: ValueWarning: covariance of constraints does not have full rank. The number of constraints is 19, but rank is 14\n",
            "  warnings.warn('covariance of constraints does not have full '\n"
          ]
        },
        {
          "output_type": "execute_result",
          "data": {
            "text/plain": [
              "<stargazer.stargazer.Stargazer at 0x7d65f743ea40>"
            ],
            "text/html": [
              "<table style=\"text-align:center\"><tr><td colspan=\"2\" style=\"border-bottom: 1px solid black\"></td></tr>\n",
              "<tr><td style=\"text-align:left\"></td><td colspan=\"1\"><em>Dependent variable: Choice_eco_friendly</em></td></tr><tr><td style=\"text-align:left\"></td><tr><td style=\"text-align:left\"></td><td>(1)</td></tr>\n",
              "<tr><td colspan=\"2\" style=\"border-bottom: 1px solid black\"></td></tr>\n",
              "\n",
              "<tr><td style=\"text-align:left\">Eco_Airline[T.Delta]</td><td>0.348<sup>**</sup></td></tr>\n",
              "<tr><td style=\"text-align:left\"></td><td>(0.146)</td></tr>\n",
              "<tr><td style=\"text-align:left\">Eco_Airline[T.JetBlue]</td><td>0.389<sup>**</sup></td></tr>\n",
              "<tr><td style=\"text-align:left\"></td><td>(0.154)</td></tr>\n",
              "<tr><td style=\"text-align:left\">Eco_Airline[T.United]</td><td>0.413<sup>***</sup></td></tr>\n",
              "<tr><td style=\"text-align:left\"></td><td>(0.061)</td></tr>\n",
              "<tr><td style=\"text-align:left\">Eco_Arrival_Airport[T.BUF]</td><td>0.445<sup>***</sup></td></tr>\n",
              "<tr><td style=\"text-align:left\"></td><td>(0.146)</td></tr>\n",
              "<tr><td style=\"text-align:left\">Eco_Arrival_Airport[T.DFW]</td><td>-0.452<sup></sup></td></tr>\n",
              "<tr><td style=\"text-align:left\"></td><td>(0.279)</td></tr>\n",
              "<tr><td style=\"text-align:left\">Eco_Arrival_Airport[T.IAD]</td><td>-0.238<sup>***</sup></td></tr>\n",
              "<tr><td style=\"text-align:left\"></td><td>(0.028)</td></tr>\n",
              "<tr><td style=\"text-align:left\">Eco_Arrival_Airport[T.IAH]</td><td>-0.142<sup>**</sup></td></tr>\n",
              "<tr><td style=\"text-align:left\"></td><td>(0.068)</td></tr>\n",
              "<tr><td style=\"text-align:left\">Eco_Arrival_Airport[T.LAX]</td><td>-2.949<sup>***</sup></td></tr>\n",
              "<tr><td style=\"text-align:left\"></td><td>(0.976)</td></tr>\n",
              "<tr><td style=\"text-align:left\">Eco_Arrival_Airport[T.LHR]</td><td>-3.086<sup>***</sup></td></tr>\n",
              "<tr><td style=\"text-align:left\"></td><td>(1.186)</td></tr>\n",
              "<tr><td style=\"text-align:left\">Eco_Arrival_Airport[T.PHX]</td><td>0.217<sup>**</sup></td></tr>\n",
              "<tr><td style=\"text-align:left\"></td><td>(0.090)</td></tr>\n",
              "<tr><td style=\"text-align:left\">Eco_Arrival_Airport[T.SFO]</td><td>-2.203<sup>***</sup></td></tr>\n",
              "<tr><td style=\"text-align:left\"></td><td>(0.697)</td></tr>\n",
              "<tr><td style=\"text-align:left\">Eco_Departure_Airport[T.JFK]</td><td>0.737<sup>***</sup></td></tr>\n",
              "<tr><td style=\"text-align:left\"></td><td>(0.235)</td></tr>\n",
              "<tr><td style=\"text-align:left\">Eco_Departure_Airport[T.MIA]</td><td>-0.238<sup>***</sup></td></tr>\n",
              "<tr><td style=\"text-align:left\"></td><td>(0.028)</td></tr>\n",
              "<tr><td style=\"text-align:left\">Eco_Departure_Airport[T.ORD]</td><td>0.445<sup>***</sup></td></tr>\n",
              "<tr><td style=\"text-align:left\"></td><td>(0.146)</td></tr>\n",
              "<tr><td style=\"text-align:left\">Eco_Departure_Airport[T.PHL]</td><td>-0.142<sup>**</sup></td></tr>\n",
              "<tr><td style=\"text-align:left\"></td><td>(0.068)</td></tr>\n",
              "<tr><td style=\"text-align:left\">Eco_Departure_Airport[T.SFO]</td><td>0.217<sup>**</sup></td></tr>\n",
              "<tr><td style=\"text-align:left\"></td><td>(0.090)</td></tr>\n",
              "<tr><td style=\"text-align:left\">Eco_Flight_Length</td><td>0.011<sup>***</sup></td></tr>\n",
              "<tr><td style=\"text-align:left\"></td><td>(0.003)</td></tr>\n",
              "<tr><td style=\"text-align:left\">Eco_price</td><td>-0.001<sup></sup></td></tr>\n",
              "<tr><td style=\"text-align:left\"></td><td>(0.001)</td></tr>\n",
              "<tr><td style=\"text-align:left\">Intercept</td><td>-1.636<sup>***</sup></td></tr>\n",
              "<tr><td style=\"text-align:left\"></td><td>(0.578)</td></tr>\n",
              "<tr><td style=\"text-align:left\">Treatment</td><td>0.075<sup>***</sup></td></tr>\n",
              "<tr><td style=\"text-align:left\"></td><td>(0.019)</td></tr>\n",
              "\n",
              "<td colspan=\"2\" style=\"border-bottom: 1px solid black\"></td></tr>\n",
              "<tr><td style=\"text-align: left\">Observations</td><td>1725</td></tr><tr><td style=\"text-align: left\">R<sup>2</sup></td><td>0.392</td></tr><tr><td style=\"text-align: left\">Adjusted R<sup>2</sup></td><td>0.387</td></tr><tr><td style=\"text-align: left\">Residual Std. Error</td><td>0.385 (df=1711)</td></tr><tr><td style=\"text-align: left\">F Statistic</td><td>217.604<sup>***</sup> (df=13; 1711)</td></tr>\n",
              "<tr><td colspan=\"2\" style=\"border-bottom: 1px solid black\"></td></tr><tr><td style=\"text-align: left\">Note:</td><td colspan=\"1\" style=\"text-align: right\"><sup>*</sup>p&lt;0.1; <sup>**</sup>p&lt;0.05; <sup>***</sup>p&lt;0.01</td></tr></table>"
            ]
          },
          "metadata": {},
          "execution_count": 64
        }
      ]
    },
    {
      "cell_type": "markdown",
      "source": [
        "Covariate regression 3 - demographics and flight info"
      ],
      "metadata": {
        "id": "x55hKXBXXDyF"
      }
    },
    {
      "cell_type": "code",
      "source": [
        "import statsmodels.api as sm\n",
        "from stargazer.stargazer import Stargazer\n",
        "\n",
        "# Assuming 'data' is your DataFrame\n",
        "feols = sm.OLS.from_formula('Choice_eco_friendly ~ Treatment + Eco_price + Eco_Airline + Eco_Flight_Length + Eco_Departure_Airport + Eco_Arrival_Airport + Age_18_24 + Gender_Female + Edu_4_year_degree + Income_120000',\n",
        "                            data=data).fit(cov_type='HC3')\n",
        "\n",
        "Stargazer([feols])"
      ],
      "metadata": {
        "id": "qf48VwrPXXn-",
        "colab": {
          "base_uri": "https://localhost:8080/",
          "height": 1000
        },
        "outputId": "9749ee33-e2d7-499a-94d0-d2a448ef0690"
      },
      "execution_count": 65,
      "outputs": [
        {
          "output_type": "stream",
          "name": "stderr",
          "text": [
            "/usr/local/lib/python3.10/dist-packages/statsmodels/base/model.py:1894: ValueWarning: covariance of constraints does not have full rank. The number of constraints is 23, but rank is 18\n",
            "  warnings.warn('covariance of constraints does not have full '\n"
          ]
        },
        {
          "output_type": "execute_result",
          "data": {
            "text/plain": [
              "<stargazer.stargazer.Stargazer at 0x7d65f6c9f130>"
            ],
            "text/html": [
              "<table style=\"text-align:center\"><tr><td colspan=\"2\" style=\"border-bottom: 1px solid black\"></td></tr>\n",
              "<tr><td style=\"text-align:left\"></td><td colspan=\"1\"><em>Dependent variable: Choice_eco_friendly</em></td></tr><tr><td style=\"text-align:left\"></td><tr><td style=\"text-align:left\"></td><td>(1)</td></tr>\n",
              "<tr><td colspan=\"2\" style=\"border-bottom: 1px solid black\"></td></tr>\n",
              "\n",
              "<tr><td style=\"text-align:left\">Age_18_24</td><td>0.064<sup>*</sup></td></tr>\n",
              "<tr><td style=\"text-align:left\"></td><td>(0.035)</td></tr>\n",
              "<tr><td style=\"text-align:left\">Eco_Airline[T.Delta]</td><td>0.344<sup>**</sup></td></tr>\n",
              "<tr><td style=\"text-align:left\"></td><td>(0.146)</td></tr>\n",
              "<tr><td style=\"text-align:left\">Eco_Airline[T.JetBlue]</td><td>0.385<sup>**</sup></td></tr>\n",
              "<tr><td style=\"text-align:left\"></td><td>(0.153)</td></tr>\n",
              "<tr><td style=\"text-align:left\">Eco_Airline[T.United]</td><td>0.413<sup>***</sup></td></tr>\n",
              "<tr><td style=\"text-align:left\"></td><td>(0.061)</td></tr>\n",
              "<tr><td style=\"text-align:left\">Eco_Arrival_Airport[T.BUF]</td><td>0.439<sup>***</sup></td></tr>\n",
              "<tr><td style=\"text-align:left\"></td><td>(0.147)</td></tr>\n",
              "<tr><td style=\"text-align:left\">Eco_Arrival_Airport[T.DFW]</td><td>-0.464<sup>*</sup></td></tr>\n",
              "<tr><td style=\"text-align:left\"></td><td>(0.280)</td></tr>\n",
              "<tr><td style=\"text-align:left\">Eco_Arrival_Airport[T.IAD]</td><td>-0.244<sup>***</sup></td></tr>\n",
              "<tr><td style=\"text-align:left\"></td><td>(0.029)</td></tr>\n",
              "<tr><td style=\"text-align:left\">Eco_Arrival_Airport[T.IAH]</td><td>-0.148<sup>**</sup></td></tr>\n",
              "<tr><td style=\"text-align:left\"></td><td>(0.068)</td></tr>\n",
              "<tr><td style=\"text-align:left\">Eco_Arrival_Airport[T.LAX]</td><td>-2.949<sup>***</sup></td></tr>\n",
              "<tr><td style=\"text-align:left\"></td><td>(0.976)</td></tr>\n",
              "<tr><td style=\"text-align:left\">Eco_Arrival_Airport[T.LHR]</td><td>-3.086<sup>***</sup></td></tr>\n",
              "<tr><td style=\"text-align:left\"></td><td>(1.186)</td></tr>\n",
              "<tr><td style=\"text-align:left\">Eco_Arrival_Airport[T.PHX]</td><td>0.211<sup>**</sup></td></tr>\n",
              "<tr><td style=\"text-align:left\"></td><td>(0.090)</td></tr>\n",
              "<tr><td style=\"text-align:left\">Eco_Arrival_Airport[T.SFO]</td><td>-2.215<sup>***</sup></td></tr>\n",
              "<tr><td style=\"text-align:left\"></td><td>(0.697)</td></tr>\n",
              "<tr><td style=\"text-align:left\">Eco_Departure_Airport[T.JFK]</td><td>0.729<sup>***</sup></td></tr>\n",
              "<tr><td style=\"text-align:left\"></td><td>(0.235)</td></tr>\n",
              "<tr><td style=\"text-align:left\">Eco_Departure_Airport[T.MIA]</td><td>-0.244<sup>***</sup></td></tr>\n",
              "<tr><td style=\"text-align:left\"></td><td>(0.029)</td></tr>\n",
              "<tr><td style=\"text-align:left\">Eco_Departure_Airport[T.ORD]</td><td>0.439<sup>***</sup></td></tr>\n",
              "<tr><td style=\"text-align:left\"></td><td>(0.147)</td></tr>\n",
              "<tr><td style=\"text-align:left\">Eco_Departure_Airport[T.PHL]</td><td>-0.148<sup>**</sup></td></tr>\n",
              "<tr><td style=\"text-align:left\"></td><td>(0.068)</td></tr>\n",
              "<tr><td style=\"text-align:left\">Eco_Departure_Airport[T.SFO]</td><td>0.211<sup>**</sup></td></tr>\n",
              "<tr><td style=\"text-align:left\"></td><td>(0.090)</td></tr>\n",
              "<tr><td style=\"text-align:left\">Eco_Flight_Length</td><td>0.011<sup>***</sup></td></tr>\n",
              "<tr><td style=\"text-align:left\"></td><td>(0.003)</td></tr>\n",
              "<tr><td style=\"text-align:left\">Eco_price</td><td>-0.001<sup></sup></td></tr>\n",
              "<tr><td style=\"text-align:left\"></td><td>(0.001)</td></tr>\n",
              "<tr><td style=\"text-align:left\">Edu_4_year_degree</td><td>-0.004<sup></sup></td></tr>\n",
              "<tr><td style=\"text-align:left\"></td><td>(0.019)</td></tr>\n",
              "<tr><td style=\"text-align:left\">Gender_Female</td><td>0.026<sup></sup></td></tr>\n",
              "<tr><td style=\"text-align:left\"></td><td>(0.019)</td></tr>\n",
              "<tr><td style=\"text-align:left\">Income_120000</td><td>0.005<sup></sup></td></tr>\n",
              "<tr><td style=\"text-align:left\"></td><td>(0.021)</td></tr>\n",
              "<tr><td style=\"text-align:left\">Intercept</td><td>-1.693<sup>***</sup></td></tr>\n",
              "<tr><td style=\"text-align:left\"></td><td>(0.579)</td></tr>\n",
              "<tr><td style=\"text-align:left\">Treatment</td><td>0.072<sup>***</sup></td></tr>\n",
              "<tr><td style=\"text-align:left\"></td><td>(0.019)</td></tr>\n",
              "\n",
              "<td colspan=\"2\" style=\"border-bottom: 1px solid black\"></td></tr>\n",
              "<tr><td style=\"text-align: left\">Observations</td><td>1725</td></tr><tr><td style=\"text-align: left\">R<sup>2</sup></td><td>0.394</td></tr><tr><td style=\"text-align: left\">Adjusted R<sup>2</sup></td><td>0.388</td></tr><tr><td style=\"text-align: left\">Residual Std. Error</td><td>0.385 (df=1707)</td></tr><tr><td style=\"text-align: left\">F Statistic</td><td>174.678<sup>***</sup> (df=17; 1707)</td></tr>\n",
              "<tr><td colspan=\"2\" style=\"border-bottom: 1px solid black\"></td></tr><tr><td style=\"text-align: left\">Note:</td><td colspan=\"1\" style=\"text-align: right\"><sup>*</sup>p&lt;0.1; <sup>**</sup>p&lt;0.05; <sup>***</sup>p&lt;0.01</td></tr></table>"
            ]
          },
          "metadata": {},
          "execution_count": 65
        }
      ]
    },
    {
      "cell_type": "markdown",
      "source": [
        "Hetergenous treatment effects"
      ],
      "metadata": {
        "id": "a4mfVhVYYtlZ"
      }
    },
    {
      "cell_type": "code",
      "source": [
        "import statsmodels.api as sm\n",
        "from stargazer.stargazer import Stargazer\n",
        "# Linear Regression (lm)\n",
        "\n",
        "feols = sm.OLS.from_formula('Choice_eco_friendly ~ Treatment * Gender_Female', data=data).fit(cov_type='HC3')\n",
        "\n",
        "Stargazer([feols])"
      ],
      "metadata": {
        "id": "vJ4tqNBPYxLs",
        "colab": {
          "base_uri": "https://localhost:8080/",
          "height": 407
        },
        "outputId": "25facfd6-8560-4d9c-9e91-8e3a74fedc63"
      },
      "execution_count": 66,
      "outputs": [
        {
          "output_type": "execute_result",
          "data": {
            "text/plain": [
              "<stargazer.stargazer.Stargazer at 0x7d65f70151b0>"
            ],
            "text/html": [
              "<table style=\"text-align:center\"><tr><td colspan=\"2\" style=\"border-bottom: 1px solid black\"></td></tr>\n",
              "<tr><td style=\"text-align:left\"></td><td colspan=\"1\"><em>Dependent variable: Choice_eco_friendly</em></td></tr><tr><td style=\"text-align:left\"></td><tr><td style=\"text-align:left\"></td><td>(1)</td></tr>\n",
              "<tr><td colspan=\"2\" style=\"border-bottom: 1px solid black\"></td></tr>\n",
              "\n",
              "<tr><td style=\"text-align:left\">Gender_Female</td><td>-0.021<sup></sup></td></tr>\n",
              "<tr><td style=\"text-align:left\"></td><td>(0.034)</td></tr>\n",
              "<tr><td style=\"text-align:left\">Intercept</td><td>0.381<sup>***</sup></td></tr>\n",
              "<tr><td style=\"text-align:left\"></td><td>(0.023)</td></tr>\n",
              "<tr><td style=\"text-align:left\">Treatment</td><td>0.022<sup></sup></td></tr>\n",
              "<tr><td style=\"text-align:left\"></td><td>(0.035)</td></tr>\n",
              "<tr><td style=\"text-align:left\">Treatment:Gender_Female</td><td>0.092<sup>*</sup></td></tr>\n",
              "<tr><td style=\"text-align:left\"></td><td>(0.048)</td></tr>\n",
              "\n",
              "<td colspan=\"2\" style=\"border-bottom: 1px solid black\"></td></tr>\n",
              "<tr><td style=\"text-align: left\">Observations</td><td>1725</td></tr><tr><td style=\"text-align: left\">R<sup>2</sup></td><td>0.009</td></tr><tr><td style=\"text-align: left\">Adjusted R<sup>2</sup></td><td>0.007</td></tr><tr><td style=\"text-align: left\">Residual Std. Error</td><td>0.490 (df=1721)</td></tr><tr><td style=\"text-align: left\">F Statistic</td><td>4.885<sup>***</sup> (df=3; 1721)</td></tr>\n",
              "<tr><td colspan=\"2\" style=\"border-bottom: 1px solid black\"></td></tr><tr><td style=\"text-align: left\">Note:</td><td colspan=\"1\" style=\"text-align: right\"><sup>*</sup>p&lt;0.1; <sup>**</sup>p&lt;0.05; <sup>***</sup>p&lt;0.01</td></tr></table>"
            ]
          },
          "metadata": {},
          "execution_count": 66
        }
      ]
    },
    {
      "cell_type": "markdown",
      "source": [
        "Incremental ATE conditional on being female is 0.092 or 9.2%."
      ],
      "metadata": {
        "id": "v25L15vwaeVH"
      }
    },
    {
      "cell_type": "code",
      "source": [
        "import statsmodels.api as sm\n",
        "from stargazer.stargazer import Stargazer\n",
        "# Linear Regression (lm)\n",
        "\n",
        "feols = sm.OLS.from_formula('Choice_eco_friendly ~ Treatment * Eco_Airline', data=data).fit(cov_type='HC3')\n",
        "\n",
        "Stargazer([feols])"
      ],
      "metadata": {
        "id": "kpfHEnCub5IU",
        "colab": {
          "base_uri": "https://localhost:8080/",
          "height": 590
        },
        "outputId": "37158422-82c5-44cc-96bf-21364e3eaa07"
      },
      "execution_count": 67,
      "outputs": [
        {
          "output_type": "execute_result",
          "data": {
            "text/plain": [
              "<stargazer.stargazer.Stargazer at 0x7d65f70179d0>"
            ],
            "text/html": [
              "<table style=\"text-align:center\"><tr><td colspan=\"2\" style=\"border-bottom: 1px solid black\"></td></tr>\n",
              "<tr><td style=\"text-align:left\"></td><td colspan=\"1\"><em>Dependent variable: Choice_eco_friendly</em></td></tr><tr><td style=\"text-align:left\"></td><tr><td style=\"text-align:left\"></td><td>(1)</td></tr>\n",
              "<tr><td colspan=\"2\" style=\"border-bottom: 1px solid black\"></td></tr>\n",
              "\n",
              "<tr><td style=\"text-align:left\">Eco_Airline[T.Delta]</td><td>0.006<sup></sup></td></tr>\n",
              "<tr><td style=\"text-align:left\"></td><td>(0.041)</td></tr>\n",
              "<tr><td style=\"text-align:left\">Eco_Airline[T.JetBlue]</td><td>-0.295<sup>***</sup></td></tr>\n",
              "<tr><td style=\"text-align:left\"></td><td>(0.040)</td></tr>\n",
              "<tr><td style=\"text-align:left\">Eco_Airline[T.United]</td><td>0.219<sup>***</sup></td></tr>\n",
              "<tr><td style=\"text-align:left\"></td><td>(0.046)</td></tr>\n",
              "<tr><td style=\"text-align:left\">Intercept</td><td>0.330<sup>***</sup></td></tr>\n",
              "<tr><td style=\"text-align:left\"></td><td>(0.032)</td></tr>\n",
              "<tr><td style=\"text-align:left\">Treatment</td><td>-0.034<sup></sup></td></tr>\n",
              "<tr><td style=\"text-align:left\"></td><td>(0.043)</td></tr>\n",
              "<tr><td style=\"text-align:left\">Treatment:Eco_Airline[T.Delta]</td><td>0.197<sup>***</sup></td></tr>\n",
              "<tr><td style=\"text-align:left\"></td><td>(0.057)</td></tr>\n",
              "<tr><td style=\"text-align:left\">Treatment:Eco_Airline[T.JetBlue]</td><td>0.066<sup></sup></td></tr>\n",
              "<tr><td style=\"text-align:left\"></td><td>(0.060)</td></tr>\n",
              "<tr><td style=\"text-align:left\">Treatment:Eco_Airline[T.United]</td><td>0.095<sup></sup></td></tr>\n",
              "<tr><td style=\"text-align:left\"></td><td>(0.063)</td></tr>\n",
              "\n",
              "<td colspan=\"2\" style=\"border-bottom: 1px solid black\"></td></tr>\n",
              "<tr><td style=\"text-align: left\">Observations</td><td>1725</td></tr><tr><td style=\"text-align: left\">R<sup>2</sup></td><td>0.090</td></tr><tr><td style=\"text-align: left\">Adjusted R<sup>2</sup></td><td>0.087</td></tr><tr><td style=\"text-align: left\">Residual Std. Error</td><td>0.470 (df=1717)</td></tr><tr><td style=\"text-align: left\">F Statistic</td><td>51.445<sup>***</sup> (df=7; 1717)</td></tr>\n",
              "<tr><td colspan=\"2\" style=\"border-bottom: 1px solid black\"></td></tr><tr><td style=\"text-align: left\">Note:</td><td colspan=\"1\" style=\"text-align: right\"><sup>*</sup>p&lt;0.1; <sup>**</sup>p&lt;0.05; <sup>***</sup>p&lt;0.01</td></tr></table>"
            ]
          },
          "metadata": {},
          "execution_count": 67
        }
      ]
    },
    {
      "cell_type": "markdown",
      "source": [
        "Incremental ATE conditional on the eco flight being Delta: 0.197 or 19.7%\n",
        "\n",
        "Incremental ATE conditional on the eco flight being Jet Blue: 0.066 or 6.6%\n",
        "\n",
        "Incremental ATE conditional on the eco flight being United: 0.095 or 9.5%\n",
        "\n",
        "Incremental ATE conditional on the eco flight being American: -0.034 or -3.4%\n"
      ],
      "metadata": {
        "id": "z3HDU64aerOa"
      }
    },
    {
      "cell_type": "code",
      "source": [
        "import statsmodels.api as sm\n",
        "from stargazer.stargazer import Stargazer\n",
        "# Linear Regression (lm)\n",
        "\n",
        "feols = sm.OLS.from_formula('Choice_eco_friendly ~ Treatment * Eco_price', data=data).fit(cov_type='HC3')\n",
        "\n",
        "Stargazer([feols])\n"
      ],
      "metadata": {
        "id": "Vo9TZNDZxKQM",
        "colab": {
          "base_uri": "https://localhost:8080/",
          "height": 407
        },
        "outputId": "40823d3c-35b2-41df-a6ae-e13134b3c034"
      },
      "execution_count": 68,
      "outputs": [
        {
          "output_type": "execute_result",
          "data": {
            "text/plain": [
              "<stargazer.stargazer.Stargazer at 0x7d65f70161d0>"
            ],
            "text/html": [
              "<table style=\"text-align:center\"><tr><td colspan=\"2\" style=\"border-bottom: 1px solid black\"></td></tr>\n",
              "<tr><td style=\"text-align:left\"></td><td colspan=\"1\"><em>Dependent variable: Choice_eco_friendly</em></td></tr><tr><td style=\"text-align:left\"></td><tr><td style=\"text-align:left\"></td><td>(1)</td></tr>\n",
              "<tr><td colspan=\"2\" style=\"border-bottom: 1px solid black\"></td></tr>\n",
              "\n",
              "<tr><td style=\"text-align:left\">Eco_price</td><td>-0.000<sup></sup></td></tr>\n",
              "<tr><td style=\"text-align:left\"></td><td>(0.000)</td></tr>\n",
              "<tr><td style=\"text-align:left\">Intercept</td><td>0.423<sup>***</sup></td></tr>\n",
              "<tr><td style=\"text-align:left\"></td><td>(0.039)</td></tr>\n",
              "<tr><td style=\"text-align:left\">Treatment</td><td>-0.028<sup></sup></td></tr>\n",
              "<tr><td style=\"text-align:left\"></td><td>(0.054)</td></tr>\n",
              "<tr><td style=\"text-align:left\">Treatment:Eco_price</td><td>0.000<sup>**</sup></td></tr>\n",
              "<tr><td style=\"text-align:left\"></td><td>(0.000)</td></tr>\n",
              "\n",
              "<td colspan=\"2\" style=\"border-bottom: 1px solid black\"></td></tr>\n",
              "<tr><td style=\"text-align: left\">Observations</td><td>1725</td></tr><tr><td style=\"text-align: left\">R<sup>2</sup></td><td>0.009</td></tr><tr><td style=\"text-align: left\">Adjusted R<sup>2</sup></td><td>0.007</td></tr><tr><td style=\"text-align: left\">Residual Std. Error</td><td>0.490 (df=1721)</td></tr><tr><td style=\"text-align: left\">F Statistic</td><td>4.866<sup>***</sup> (df=3; 1721)</td></tr>\n",
              "<tr><td colspan=\"2\" style=\"border-bottom: 1px solid black\"></td></tr><tr><td style=\"text-align: left\">Note:</td><td colspan=\"1\" style=\"text-align: right\"><sup>*</sup>p&lt;0.1; <sup>**</sup>p&lt;0.05; <sup>***</sup>p&lt;0.01</td></tr></table>"
            ]
          },
          "metadata": {},
          "execution_count": 68
        }
      ]
    },
    {
      "cell_type": "code",
      "source": [
        "import statsmodels.api as sm\n",
        "from stargazer.stargazer import Stargazer\n",
        "# Linear Regression (lm)\n",
        "\n",
        "feols = sm.OLS.from_formula('Choice_eco_friendly ~ Treatment * Eco_price', data=data).fit(cov_type='HC3')\n",
        "\n",
        "feols.summary()\n"
      ],
      "metadata": {
        "id": "OLUKyCjigHlx",
        "colab": {
          "base_uri": "https://localhost:8080/",
          "height": 522
        },
        "outputId": "542f4db7-abe0-4eec-97ac-aacda909d4b5"
      },
      "execution_count": 69,
      "outputs": [
        {
          "output_type": "execute_result",
          "data": {
            "text/plain": [
              "<class 'statsmodels.iolib.summary.Summary'>\n",
              "\"\"\"\n",
              "                             OLS Regression Results                            \n",
              "===============================================================================\n",
              "Dep. Variable:     Choice_eco_friendly   R-squared:                       0.009\n",
              "Model:                             OLS   Adj. R-squared:                  0.007\n",
              "Method:                  Least Squares   F-statistic:                     4.866\n",
              "Date:                 Sat, 15 Jun 2024   Prob (F-statistic):            0.00225\n",
              "Time:                         20:07:11   Log-Likelihood:                -1216.1\n",
              "No. Observations:                 1725   AIC:                             2440.\n",
              "Df Residuals:                     1721   BIC:                             2462.\n",
              "Df Model:                            3                                         \n",
              "Covariance Type:                   HC3                                         \n",
              "=======================================================================================\n",
              "                          coef    std err          z      P>|z|      [0.025      0.975]\n",
              "---------------------------------------------------------------------------------------\n",
              "Intercept               0.4234      0.039     10.824      0.000       0.347       0.500\n",
              "Treatment              -0.0277      0.054     -0.508      0.611      -0.134       0.079\n",
              "Eco_price              -0.0001   9.82e-05     -1.473      0.141      -0.000    4.78e-05\n",
              "Treatment:Eco_price     0.0003      0.000      2.102      0.036    1.92e-05       0.001\n",
              "==============================================================================\n",
              "Omnibus:                     7018.906   Durbin-Watson:                   1.742\n",
              "Prob(Omnibus):                  0.000   Jarque-Bera (JB):              279.354\n",
              "Skew:                           0.364   Prob(JB):                     2.18e-61\n",
              "Kurtosis:                       1.168   Cond. No.                     2.37e+03\n",
              "==============================================================================\n",
              "\n",
              "Notes:\n",
              "[1] Standard Errors are heteroscedasticity robust (HC3)\n",
              "[2] The condition number is large, 2.37e+03. This might indicate that there are\n",
              "strong multicollinearity or other numerical problems.\n",
              "\"\"\""
            ],
            "text/html": [
              "<table class=\"simpletable\">\n",
              "<caption>OLS Regression Results</caption>\n",
              "<tr>\n",
              "  <th>Dep. Variable:</th>    <td>Choice_eco_friendly</td> <th>  R-squared:         </th> <td>   0.009</td>\n",
              "</tr>\n",
              "<tr>\n",
              "  <th>Model:</th>                    <td>OLS</td>         <th>  Adj. R-squared:    </th> <td>   0.007</td>\n",
              "</tr>\n",
              "<tr>\n",
              "  <th>Method:</th>              <td>Least Squares</td>    <th>  F-statistic:       </th> <td>   4.866</td>\n",
              "</tr>\n",
              "<tr>\n",
              "  <th>Date:</th>              <td>Sat, 15 Jun 2024</td>   <th>  Prob (F-statistic):</th>  <td>0.00225</td>\n",
              "</tr>\n",
              "<tr>\n",
              "  <th>Time:</th>                  <td>20:07:11</td>       <th>  Log-Likelihood:    </th> <td> -1216.1</td>\n",
              "</tr>\n",
              "<tr>\n",
              "  <th>No. Observations:</th>       <td>  1725</td>        <th>  AIC:               </th> <td>   2440.</td>\n",
              "</tr>\n",
              "<tr>\n",
              "  <th>Df Residuals:</th>           <td>  1721</td>        <th>  BIC:               </th> <td>   2462.</td>\n",
              "</tr>\n",
              "<tr>\n",
              "  <th>Df Model:</th>               <td>     3</td>        <th>                     </th>     <td> </td>   \n",
              "</tr>\n",
              "<tr>\n",
              "  <th>Covariance Type:</th>          <td>HC3</td>         <th>                     </th>     <td> </td>   \n",
              "</tr>\n",
              "</table>\n",
              "<table class=\"simpletable\">\n",
              "<tr>\n",
              "           <td></td>              <th>coef</th>     <th>std err</th>      <th>z</th>      <th>P>|z|</th>  <th>[0.025</th>    <th>0.975]</th>  \n",
              "</tr>\n",
              "<tr>\n",
              "  <th>Intercept</th>           <td>    0.4234</td> <td>    0.039</td> <td>   10.824</td> <td> 0.000</td> <td>    0.347</td> <td>    0.500</td>\n",
              "</tr>\n",
              "<tr>\n",
              "  <th>Treatment</th>           <td>   -0.0277</td> <td>    0.054</td> <td>   -0.508</td> <td> 0.611</td> <td>   -0.134</td> <td>    0.079</td>\n",
              "</tr>\n",
              "<tr>\n",
              "  <th>Eco_price</th>           <td>   -0.0001</td> <td> 9.82e-05</td> <td>   -1.473</td> <td> 0.141</td> <td>   -0.000</td> <td> 4.78e-05</td>\n",
              "</tr>\n",
              "<tr>\n",
              "  <th>Treatment:Eco_price</th> <td>    0.0003</td> <td>    0.000</td> <td>    2.102</td> <td> 0.036</td> <td> 1.92e-05</td> <td>    0.001</td>\n",
              "</tr>\n",
              "</table>\n",
              "<table class=\"simpletable\">\n",
              "<tr>\n",
              "  <th>Omnibus:</th>       <td>7018.906</td> <th>  Durbin-Watson:     </th> <td>   1.742</td>\n",
              "</tr>\n",
              "<tr>\n",
              "  <th>Prob(Omnibus):</th>  <td> 0.000</td>  <th>  Jarque-Bera (JB):  </th> <td> 279.354</td>\n",
              "</tr>\n",
              "<tr>\n",
              "  <th>Skew:</th>           <td> 0.364</td>  <th>  Prob(JB):          </th> <td>2.18e-61</td>\n",
              "</tr>\n",
              "<tr>\n",
              "  <th>Kurtosis:</th>       <td> 1.168</td>  <th>  Cond. No.          </th> <td>2.37e+03</td>\n",
              "</tr>\n",
              "</table><br/><br/>Notes:<br/>[1] Standard Errors are heteroscedasticity robust (HC3)<br/>[2] The condition number is large, 2.37e+03. This might indicate that there are<br/>strong multicollinearity or other numerical problems."
            ],
            "text/latex": "\\begin{center}\n\\begin{tabular}{lclc}\n\\toprule\n\\textbf{Dep. Variable:}       & Choice\\_eco\\_friendly & \\textbf{  R-squared:         } &     0.009   \\\\\n\\textbf{Model:}               &          OLS          & \\textbf{  Adj. R-squared:    } &     0.007   \\\\\n\\textbf{Method:}              &     Least Squares     & \\textbf{  F-statistic:       } &     4.866   \\\\\n\\textbf{Date:}                &    Sat, 15 Jun 2024   & \\textbf{  Prob (F-statistic):} &  0.00225    \\\\\n\\textbf{Time:}                &        20:07:11       & \\textbf{  Log-Likelihood:    } &   -1216.1   \\\\\n\\textbf{No. Observations:}    &           1725        & \\textbf{  AIC:               } &     2440.   \\\\\n\\textbf{Df Residuals:}        &           1721        & \\textbf{  BIC:               } &     2462.   \\\\\n\\textbf{Df Model:}            &              3        & \\textbf{                     } &             \\\\\n\\textbf{Covariance Type:}     &          HC3          & \\textbf{                     } &             \\\\\n\\bottomrule\n\\end{tabular}\n\\begin{tabular}{lcccccc}\n                              & \\textbf{coef} & \\textbf{std err} & \\textbf{z} & \\textbf{P$> |$z$|$} & \\textbf{[0.025} & \\textbf{0.975]}  \\\\\n\\midrule\n\\textbf{Intercept}            &       0.4234  &        0.039     &    10.824  &         0.000        &        0.347    &        0.500     \\\\\n\\textbf{Treatment}            &      -0.0277  &        0.054     &    -0.508  &         0.611        &       -0.134    &        0.079     \\\\\n\\textbf{Eco\\_price}           &      -0.0001  &     9.82e-05     &    -1.473  &         0.141        &       -0.000    &     4.78e-05     \\\\\n\\textbf{Treatment:Eco\\_price} &       0.0003  &        0.000     &     2.102  &         0.036        &     1.92e-05    &        0.001     \\\\\n\\bottomrule\n\\end{tabular}\n\\begin{tabular}{lclc}\n\\textbf{Omnibus:}       & 7018.906 & \\textbf{  Durbin-Watson:     } &    1.742  \\\\\n\\textbf{Prob(Omnibus):} &   0.000  & \\textbf{  Jarque-Bera (JB):  } &  279.354  \\\\\n\\textbf{Skew:}          &   0.364  & \\textbf{  Prob(JB):          } & 2.18e-61  \\\\\n\\textbf{Kurtosis:}      &   1.168  & \\textbf{  Cond. No.          } & 2.37e+03  \\\\\n\\bottomrule\n\\end{tabular}\n%\\caption{OLS Regression Results}\n\\end{center}\n\nNotes: \\newline\n [1] Standard Errors are heteroscedasticity robust (HC3) \\newline\n [2] The condition number is large, 2.37e+03. This might indicate that there are \\newline\n strong multicollinearity or other numerical problems."
          },
          "metadata": {},
          "execution_count": 69
        }
      ]
    },
    {
      "cell_type": "markdown",
      "source": [
        "The incremental ATE for a $1 increase in the eco-friendly flight price is -0.0001, or 0.01%.\n",
        "\n",
        "The incremental ATE for a $100 increase in the eco-friendly flight price is -0.01 or -1%."
      ],
      "metadata": {
        "id": "Cx5wVcOGiKA2"
      }
    },
    {
      "cell_type": "code",
      "source": [
        "import statsmodels.api as sm\n",
        "from stargazer.stargazer import Stargazer\n",
        "# Linear Regression (lm)\n",
        "\n",
        "feols = sm.OLS.from_formula('Choice_eco_friendly ~ Treatment * Eco_Flight_Length', data=data).fit(cov_type='HC3')\n",
        "\n",
        "feols.summary()"
      ],
      "metadata": {
        "id": "4XG21xETmaTA",
        "colab": {
          "base_uri": "https://localhost:8080/",
          "height": 522
        },
        "outputId": "96377766-bdda-45e1-f1c5-2d5bf5f4d825"
      },
      "execution_count": 70,
      "outputs": [
        {
          "output_type": "execute_result",
          "data": {
            "text/plain": [
              "<class 'statsmodels.iolib.summary.Summary'>\n",
              "\"\"\"\n",
              "                             OLS Regression Results                            \n",
              "===============================================================================\n",
              "Dep. Variable:     Choice_eco_friendly   R-squared:                       0.157\n",
              "Model:                             OLS   Adj. R-squared:                  0.156\n",
              "Method:                  Least Squares   F-statistic:                     131.7\n",
              "Date:                 Sat, 15 Jun 2024   Prob (F-statistic):           8.80e-77\n",
              "Time:                         20:07:11   Log-Likelihood:                -1076.2\n",
              "No. Observations:                 1725   AIC:                             2160.\n",
              "Df Residuals:                     1721   BIC:                             2182.\n",
              "Df Model:                            3                                         \n",
              "Covariance Type:                   HC3                                         \n",
              "===============================================================================================\n",
              "                                  coef    std err          z      P>|z|      [0.025      0.975]\n",
              "-----------------------------------------------------------------------------------------------\n",
              "Intercept                       0.0568      0.027      2.100      0.036       0.004       0.110\n",
              "Treatment                      -0.0160      0.039     -0.411      0.681      -0.092       0.060\n",
              "Eco_Flight_Length               0.0012      0.000     11.573      0.000       0.001       0.001\n",
              "Treatment:Eco_Flight_Length     0.0004      0.000      2.415      0.016    6.72e-05       0.001\n",
              "==============================================================================\n",
              "Omnibus:                     2900.019   Durbin-Watson:                   1.733\n",
              "Prob(Omnibus):                  0.000   Jarque-Bera (JB):              133.629\n",
              "Skew:                           0.246   Prob(JB):                     9.61e-30\n",
              "Kurtosis:                       1.729   Cond. No.                     1.64e+03\n",
              "==============================================================================\n",
              "\n",
              "Notes:\n",
              "[1] Standard Errors are heteroscedasticity robust (HC3)\n",
              "[2] The condition number is large, 1.64e+03. This might indicate that there are\n",
              "strong multicollinearity or other numerical problems.\n",
              "\"\"\""
            ],
            "text/html": [
              "<table class=\"simpletable\">\n",
              "<caption>OLS Regression Results</caption>\n",
              "<tr>\n",
              "  <th>Dep. Variable:</th>    <td>Choice_eco_friendly</td> <th>  R-squared:         </th> <td>   0.157</td>\n",
              "</tr>\n",
              "<tr>\n",
              "  <th>Model:</th>                    <td>OLS</td>         <th>  Adj. R-squared:    </th> <td>   0.156</td>\n",
              "</tr>\n",
              "<tr>\n",
              "  <th>Method:</th>              <td>Least Squares</td>    <th>  F-statistic:       </th> <td>   131.7</td>\n",
              "</tr>\n",
              "<tr>\n",
              "  <th>Date:</th>              <td>Sat, 15 Jun 2024</td>   <th>  Prob (F-statistic):</th> <td>8.80e-77</td>\n",
              "</tr>\n",
              "<tr>\n",
              "  <th>Time:</th>                  <td>20:07:11</td>       <th>  Log-Likelihood:    </th> <td> -1076.2</td>\n",
              "</tr>\n",
              "<tr>\n",
              "  <th>No. Observations:</th>       <td>  1725</td>        <th>  AIC:               </th> <td>   2160.</td>\n",
              "</tr>\n",
              "<tr>\n",
              "  <th>Df Residuals:</th>           <td>  1721</td>        <th>  BIC:               </th> <td>   2182.</td>\n",
              "</tr>\n",
              "<tr>\n",
              "  <th>Df Model:</th>               <td>     3</td>        <th>                     </th>     <td> </td>   \n",
              "</tr>\n",
              "<tr>\n",
              "  <th>Covariance Type:</th>          <td>HC3</td>         <th>                     </th>     <td> </td>   \n",
              "</tr>\n",
              "</table>\n",
              "<table class=\"simpletable\">\n",
              "<tr>\n",
              "               <td></td>                  <th>coef</th>     <th>std err</th>      <th>z</th>      <th>P>|z|</th>  <th>[0.025</th>    <th>0.975]</th>  \n",
              "</tr>\n",
              "<tr>\n",
              "  <th>Intercept</th>                   <td>    0.0568</td> <td>    0.027</td> <td>    2.100</td> <td> 0.036</td> <td>    0.004</td> <td>    0.110</td>\n",
              "</tr>\n",
              "<tr>\n",
              "  <th>Treatment</th>                   <td>   -0.0160</td> <td>    0.039</td> <td>   -0.411</td> <td> 0.681</td> <td>   -0.092</td> <td>    0.060</td>\n",
              "</tr>\n",
              "<tr>\n",
              "  <th>Eco_Flight_Length</th>           <td>    0.0012</td> <td>    0.000</td> <td>   11.573</td> <td> 0.000</td> <td>    0.001</td> <td>    0.001</td>\n",
              "</tr>\n",
              "<tr>\n",
              "  <th>Treatment:Eco_Flight_Length</th> <td>    0.0004</td> <td>    0.000</td> <td>    2.415</td> <td> 0.016</td> <td> 6.72e-05</td> <td>    0.001</td>\n",
              "</tr>\n",
              "</table>\n",
              "<table class=\"simpletable\">\n",
              "<tr>\n",
              "  <th>Omnibus:</th>       <td>2900.019</td> <th>  Durbin-Watson:     </th> <td>   1.733</td>\n",
              "</tr>\n",
              "<tr>\n",
              "  <th>Prob(Omnibus):</th>  <td> 0.000</td>  <th>  Jarque-Bera (JB):  </th> <td> 133.629</td>\n",
              "</tr>\n",
              "<tr>\n",
              "  <th>Skew:</th>           <td> 0.246</td>  <th>  Prob(JB):          </th> <td>9.61e-30</td>\n",
              "</tr>\n",
              "<tr>\n",
              "  <th>Kurtosis:</th>       <td> 1.729</td>  <th>  Cond. No.          </th> <td>1.64e+03</td>\n",
              "</tr>\n",
              "</table><br/><br/>Notes:<br/>[1] Standard Errors are heteroscedasticity robust (HC3)<br/>[2] The condition number is large, 1.64e+03. This might indicate that there are<br/>strong multicollinearity or other numerical problems."
            ],
            "text/latex": "\\begin{center}\n\\begin{tabular}{lclc}\n\\toprule\n\\textbf{Dep. Variable:}                & Choice\\_eco\\_friendly & \\textbf{  R-squared:         } &     0.157   \\\\\n\\textbf{Model:}                        &          OLS          & \\textbf{  Adj. R-squared:    } &     0.156   \\\\\n\\textbf{Method:}                       &     Least Squares     & \\textbf{  F-statistic:       } &     131.7   \\\\\n\\textbf{Date:}                         &    Sat, 15 Jun 2024   & \\textbf{  Prob (F-statistic):} &  8.80e-77   \\\\\n\\textbf{Time:}                         &        20:07:11       & \\textbf{  Log-Likelihood:    } &   -1076.2   \\\\\n\\textbf{No. Observations:}             &           1725        & \\textbf{  AIC:               } &     2160.   \\\\\n\\textbf{Df Residuals:}                 &           1721        & \\textbf{  BIC:               } &     2182.   \\\\\n\\textbf{Df Model:}                     &              3        & \\textbf{                     } &             \\\\\n\\textbf{Covariance Type:}              &          HC3          & \\textbf{                     } &             \\\\\n\\bottomrule\n\\end{tabular}\n\\begin{tabular}{lcccccc}\n                                       & \\textbf{coef} & \\textbf{std err} & \\textbf{z} & \\textbf{P$> |$z$|$} & \\textbf{[0.025} & \\textbf{0.975]}  \\\\\n\\midrule\n\\textbf{Intercept}                     &       0.0568  &        0.027     &     2.100  &         0.036        &        0.004    &        0.110     \\\\\n\\textbf{Treatment}                     &      -0.0160  &        0.039     &    -0.411  &         0.681        &       -0.092    &        0.060     \\\\\n\\textbf{Eco\\_Flight\\_Length}           &       0.0012  &        0.000     &    11.573  &         0.000        &        0.001    &        0.001     \\\\\n\\textbf{Treatment:Eco\\_Flight\\_Length} &       0.0004  &        0.000     &     2.415  &         0.016        &     6.72e-05    &        0.001     \\\\\n\\bottomrule\n\\end{tabular}\n\\begin{tabular}{lclc}\n\\textbf{Omnibus:}       & 2900.019 & \\textbf{  Durbin-Watson:     } &    1.733  \\\\\n\\textbf{Prob(Omnibus):} &   0.000  & \\textbf{  Jarque-Bera (JB):  } &  133.629  \\\\\n\\textbf{Skew:}          &   0.246  & \\textbf{  Prob(JB):          } & 9.61e-30  \\\\\n\\textbf{Kurtosis:}      &   1.729  & \\textbf{  Cond. No.          } & 1.64e+03  \\\\\n\\bottomrule\n\\end{tabular}\n%\\caption{OLS Regression Results}\n\\end{center}\n\nNotes: \\newline\n [1] Standard Errors are heteroscedasticity robust (HC3) \\newline\n [2] The condition number is large, 1.64e+03. This might indicate that there are \\newline\n strong multicollinearity or other numerical problems."
          },
          "metadata": {},
          "execution_count": 70
        }
      ]
    },
    {
      "cell_type": "markdown",
      "source": [
        "The incremental ATE for a 1 minute increase in the flight length is 0.0004 or 0.04%.\n",
        "\n",
        "The incremental ATE for a 1 hour increase in the flight length is 0.024 or 2.4%."
      ],
      "metadata": {
        "id": "n01uJh-LmxHy"
      }
    },
    {
      "cell_type": "code",
      "source": [
        "import statsmodels.api as sm\n",
        "from stargazer.stargazer import Stargazer\n",
        "# Linear Regression (lm)\n",
        "\n",
        "feols = sm.OLS.from_formula('Choice_eco_friendly ~ Treatment * Eco_Flight_Length', data=data).fit(cov_type='HC3')\n",
        "Stargazer([feols])"
      ],
      "metadata": {
        "id": "jWvxQG8geU8k",
        "colab": {
          "base_uri": "https://localhost:8080/",
          "height": 407
        },
        "outputId": "b65df712-b599-4e9f-d128-c80a656b0b49"
      },
      "execution_count": 71,
      "outputs": [
        {
          "output_type": "execute_result",
          "data": {
            "text/plain": [
              "<stargazer.stargazer.Stargazer at 0x7d65f70152d0>"
            ],
            "text/html": [
              "<table style=\"text-align:center\"><tr><td colspan=\"2\" style=\"border-bottom: 1px solid black\"></td></tr>\n",
              "<tr><td style=\"text-align:left\"></td><td colspan=\"1\"><em>Dependent variable: Choice_eco_friendly</em></td></tr><tr><td style=\"text-align:left\"></td><tr><td style=\"text-align:left\"></td><td>(1)</td></tr>\n",
              "<tr><td colspan=\"2\" style=\"border-bottom: 1px solid black\"></td></tr>\n",
              "\n",
              "<tr><td style=\"text-align:left\">Eco_Flight_Length</td><td>0.001<sup>***</sup></td></tr>\n",
              "<tr><td style=\"text-align:left\"></td><td>(0.000)</td></tr>\n",
              "<tr><td style=\"text-align:left\">Intercept</td><td>0.057<sup>**</sup></td></tr>\n",
              "<tr><td style=\"text-align:left\"></td><td>(0.027)</td></tr>\n",
              "<tr><td style=\"text-align:left\">Treatment</td><td>-0.016<sup></sup></td></tr>\n",
              "<tr><td style=\"text-align:left\"></td><td>(0.039)</td></tr>\n",
              "<tr><td style=\"text-align:left\">Treatment:Eco_Flight_Length</td><td>0.000<sup>**</sup></td></tr>\n",
              "<tr><td style=\"text-align:left\"></td><td>(0.000)</td></tr>\n",
              "\n",
              "<td colspan=\"2\" style=\"border-bottom: 1px solid black\"></td></tr>\n",
              "<tr><td style=\"text-align: left\">Observations</td><td>1725</td></tr><tr><td style=\"text-align: left\">R<sup>2</sup></td><td>0.157</td></tr><tr><td style=\"text-align: left\">Adjusted R<sup>2</sup></td><td>0.156</td></tr><tr><td style=\"text-align: left\">Residual Std. Error</td><td>0.452 (df=1721)</td></tr><tr><td style=\"text-align: left\">F Statistic</td><td>131.657<sup>***</sup> (df=3; 1721)</td></tr>\n",
              "<tr><td colspan=\"2\" style=\"border-bottom: 1px solid black\"></td></tr><tr><td style=\"text-align: left\">Note:</td><td colspan=\"1\" style=\"text-align: right\"><sup>*</sup>p&lt;0.1; <sup>**</sup>p&lt;0.05; <sup>***</sup>p&lt;0.01</td></tr></table>"
            ]
          },
          "metadata": {},
          "execution_count": 71
        }
      ]
    },
    {
      "cell_type": "code",
      "source": [
        "import pandas as pd\n",
        "\n",
        "# Assuming 'data' is your dataframe\n",
        "data['Question_Number'] = data['Question_Number'].astype('category')\n",
        "\n",
        "# Now, when running a regression, 'Question_Number' will be treated as a categorical variable"
      ],
      "metadata": {
        "id": "E_VEtkYP-EM-"
      },
      "execution_count": 72,
      "outputs": []
    },
    {
      "cell_type": "code",
      "source": [
        "import statsmodels.api as sm\n",
        "from stargazer.stargazer import Stargazer\n",
        "# Linear Regression (lm)\n",
        "\n",
        "feols = sm.OLS.from_formula('Choice_eco_friendly ~ Treatment * Question_Number', data=data).fit(cov_type='HC3')\n",
        "Stargazer([feols])"
      ],
      "metadata": {
        "id": "hGS-OHx09nw0",
        "colab": {
          "base_uri": "https://localhost:8080/",
          "height": 1000
        },
        "outputId": "7200e17c-25bc-4ca3-c203-2aa50f14f5dd"
      },
      "execution_count": 73,
      "outputs": [
        {
          "output_type": "execute_result",
          "data": {
            "text/plain": [
              "<stargazer.stargazer.Stargazer at 0x7d65f6f3b550>"
            ],
            "text/html": [
              "<table style=\"text-align:center\"><tr><td colspan=\"2\" style=\"border-bottom: 1px solid black\"></td></tr>\n",
              "<tr><td style=\"text-align:left\"></td><td colspan=\"1\"><em>Dependent variable: Choice_eco_friendly</em></td></tr><tr><td style=\"text-align:left\"></td><tr><td style=\"text-align:left\"></td><td>(1)</td></tr>\n",
              "<tr><td colspan=\"2\" style=\"border-bottom: 1px solid black\"></td></tr>\n",
              "\n",
              "<tr><td style=\"text-align:left\">Intercept</td><td>0.054<sup>*</sup></td></tr>\n",
              "<tr><td style=\"text-align:left\"></td><td>(0.031)</td></tr>\n",
              "<tr><td style=\"text-align:left\">Question_Number[T.10]</td><td>0.196<sup>***</sup></td></tr>\n",
              "<tr><td style=\"text-align:left\"></td><td>(0.066)</td></tr>\n",
              "<tr><td style=\"text-align:left\">Question_Number[T.11]</td><td>0.018<sup></sup></td></tr>\n",
              "<tr><td style=\"text-align:left\"></td><td>(0.047)</td></tr>\n",
              "<tr><td style=\"text-align:left\">Question_Number[T.12]</td><td>-0.018<sup></sup></td></tr>\n",
              "<tr><td style=\"text-align:left\"></td><td>(0.040)</td></tr>\n",
              "<tr><td style=\"text-align:left\">Question_Number[T.13]</td><td>0.018<sup></sup></td></tr>\n",
              "<tr><td style=\"text-align:left\"></td><td>(0.047)</td></tr>\n",
              "<tr><td style=\"text-align:left\">Question_Number[T.14]</td><td>0.393<sup>***</sup></td></tr>\n",
              "<tr><td style=\"text-align:left\"></td><td>(0.074)</td></tr>\n",
              "<tr><td style=\"text-align:left\">Question_Number[T.15]</td><td>0.839<sup>***</sup></td></tr>\n",
              "<tr><td style=\"text-align:left\"></td><td>(0.052)</td></tr>\n",
              "<tr><td style=\"text-align:left\">Question_Number[T.2]</td><td>0.875<sup>***</sup></td></tr>\n",
              "<tr><td style=\"text-align:left\"></td><td>(0.047)</td></tr>\n",
              "<tr><td style=\"text-align:left\">Question_Number[T.3]</td><td>0.804<sup>***</sup></td></tr>\n",
              "<tr><td style=\"text-align:left\"></td><td>(0.057)</td></tr>\n",
              "<tr><td style=\"text-align:left\">Question_Number[T.4]</td><td>0.696<sup>***</sup></td></tr>\n",
              "<tr><td style=\"text-align:left\"></td><td>(0.066)</td></tr>\n",
              "<tr><td style=\"text-align:left\">Question_Number[T.5]</td><td>0.339<sup>***</sup></td></tr>\n",
              "<tr><td style=\"text-align:left\"></td><td>(0.073)</td></tr>\n",
              "<tr><td style=\"text-align:left\">Question_Number[T.6]</td><td>0.304<sup>***</sup></td></tr>\n",
              "<tr><td style=\"text-align:left\"></td><td>(0.072)</td></tr>\n",
              "<tr><td style=\"text-align:left\">Question_Number[T.7]</td><td>0.054<sup></sup></td></tr>\n",
              "<tr><td style=\"text-align:left\"></td><td>(0.052)</td></tr>\n",
              "<tr><td style=\"text-align:left\">Question_Number[T.8]</td><td>0.214<sup>***</sup></td></tr>\n",
              "<tr><td style=\"text-align:left\"></td><td>(0.068)</td></tr>\n",
              "<tr><td style=\"text-align:left\">Question_Number[T.9]</td><td>0.036<sup></sup></td></tr>\n",
              "<tr><td style=\"text-align:left\"></td><td>(0.049)</td></tr>\n",
              "<tr><td style=\"text-align:left\">Treatment</td><td>0.031<sup></sup></td></tr>\n",
              "<tr><td style=\"text-align:left\"></td><td>(0.048)</td></tr>\n",
              "<tr><td style=\"text-align:left\">Treatment:Question_Number[T.10]</td><td>0.193<sup>*</sup></td></tr>\n",
              "<tr><td style=\"text-align:left\"></td><td>(0.101)</td></tr>\n",
              "<tr><td style=\"text-align:left\">Treatment:Question_Number[T.11]</td><td>0.016<sup></sup></td></tr>\n",
              "<tr><td style=\"text-align:left\"></td><td>(0.073)</td></tr>\n",
              "<tr><td style=\"text-align:left\">Treatment:Question_Number[T.12]</td><td>0.001<sup></sup></td></tr>\n",
              "<tr><td style=\"text-align:left\"></td><td>(0.064)</td></tr>\n",
              "<tr><td style=\"text-align:left\">Treatment:Question_Number[T.13]</td><td>-0.035<sup></sup></td></tr>\n",
              "<tr><td style=\"text-align:left\"></td><td>(0.068)</td></tr>\n",
              "<tr><td style=\"text-align:left\">Treatment:Question_Number[T.14]</td><td>0.251<sup>**</sup></td></tr>\n",
              "<tr><td style=\"text-align:left\"></td><td>(0.102)</td></tr>\n",
              "<tr><td style=\"text-align:left\">Treatment:Question_Number[T.15]</td><td>0.008<sup></sup></td></tr>\n",
              "<tr><td style=\"text-align:left\"></td><td>(0.072)</td></tr>\n",
              "<tr><td style=\"text-align:left\">Treatment:Question_Number[T.2]</td><td>-0.044<sup></sup></td></tr>\n",
              "<tr><td style=\"text-align:left\"></td><td>(0.070)</td></tr>\n",
              "<tr><td style=\"text-align:left\">Treatment:Question_Number[T.3]</td><td>-0.024<sup></sup></td></tr>\n",
              "<tr><td style=\"text-align:left\"></td><td>(0.081)</td></tr>\n",
              "<tr><td style=\"text-align:left\">Treatment:Question_Number[T.4]</td><td>-0.052<sup></sup></td></tr>\n",
              "<tr><td style=\"text-align:left\"></td><td>(0.096)</td></tr>\n",
              "<tr><td style=\"text-align:left\">Treatment:Question_Number[T.5]</td><td>-0.153<sup></sup></td></tr>\n",
              "<tr><td style=\"text-align:left\"></td><td>(0.101)</td></tr>\n",
              "<tr><td style=\"text-align:left\">Treatment:Question_Number[T.6]</td><td>0.188<sup>*</sup></td></tr>\n",
              "<tr><td style=\"text-align:left\"></td><td>(0.104)</td></tr>\n",
              "<tr><td style=\"text-align:left\">Treatment:Question_Number[T.7]</td><td>-0.020<sup></sup></td></tr>\n",
              "<tr><td style=\"text-align:left\"></td><td>(0.077)</td></tr>\n",
              "<tr><td style=\"text-align:left\">Treatment:Question_Number[T.8]</td><td>0.260<sup>**</sup></td></tr>\n",
              "<tr><td style=\"text-align:left\"></td><td>(0.101)</td></tr>\n",
              "<tr><td style=\"text-align:left\">Treatment:Question_Number[T.9]</td><td>0.066<sup></sup></td></tr>\n",
              "<tr><td style=\"text-align:left\"></td><td>(0.080)</td></tr>\n",
              "\n",
              "<td colspan=\"2\" style=\"border-bottom: 1px solid black\"></td></tr>\n",
              "<tr><td style=\"text-align: left\">Observations</td><td>1725</td></tr><tr><td style=\"text-align: left\">R<sup>2</sup></td><td>0.431</td></tr><tr><td style=\"text-align: left\">Adjusted R<sup>2</sup></td><td>0.422</td></tr><tr><td style=\"text-align: left\">Residual Std. Error</td><td>0.374 (df=1695)</td></tr><tr><td style=\"text-align: left\">F Statistic</td><td>72.504<sup>***</sup> (df=29; 1695)</td></tr>\n",
              "<tr><td colspan=\"2\" style=\"border-bottom: 1px solid black\"></td></tr><tr><td style=\"text-align: left\">Note:</td><td colspan=\"1\" style=\"text-align: right\"><sup>*</sup>p&lt;0.1; <sup>**</sup>p&lt;0.05; <sup>***</sup>p&lt;0.01</td></tr></table>"
            ]
          },
          "metadata": {},
          "execution_count": 73
        }
      ]
    },
    {
      "cell_type": "code",
      "source": [
        "import statsmodels.api as sm\n",
        "from stargazer.stargazer import Stargazer\n",
        "# Linear Regression (lm)\n",
        "\n",
        "# Convert Question_Number to categorical if it isn't already\n",
        "data['Question_Number'] = data['Question_Number'].astype('category')\n",
        "\n",
        "# Get dummy variables for Question_Number\n",
        "data = pd.get_dummies(data, columns=['Question_Number'], drop_first=True)\n",
        "\n",
        "# Create the formula without the fixed effects part\n",
        "formula = 'Choice_eco_friendly ~ Treatment + ' + ' + '.join(data.columns[data.columns.str.startswith('Question_Number_')])\n",
        "\n",
        "# Fit the model\n",
        "feols = sm.OLS.from_formula(formula, data=data).fit(cov_type='HC3')\n",
        "\n",
        "# Display the results using Stargazer\n",
        "stargazer = Stargazer([feols])\n",
        "stargazer.render_html()\n"
      ],
      "metadata": {
        "id": "myJ1MHHRJAu8",
        "colab": {
          "base_uri": "https://localhost:8080/",
          "height": 88
        },
        "outputId": "9ab9ce02-0f5d-413b-abcd-7597bde06b15"
      },
      "execution_count": 74,
      "outputs": [
        {
          "output_type": "execute_result",
          "data": {
            "text/plain": [
              "'<table style=\"text-align:center\"><tr><td colspan=\"2\" style=\"border-bottom: 1px solid black\"></td></tr>\\n<tr><td style=\"text-align:left\"></td><td colspan=\"1\"><em>Dependent variable: Choice_eco_friendly</em></td></tr><tr><td style=\"text-align:left\"></td><tr><td style=\"text-align:left\"></td><td>(1)</td></tr>\\n<tr><td colspan=\"2\" style=\"border-bottom: 1px solid black\"></td></tr>\\n\\n<tr><td style=\"text-align:left\">Intercept</td><td>0.031<sup></sup></td></tr>\\n<tr><td style=\"text-align:left\"></td><td>(0.025)</td></tr>\\n<tr><td style=\"text-align:left\">Question_Number_10[T.True]</td><td>0.296<sup>***</sup></td></tr>\\n<tr><td style=\"text-align:left\"></td><td>(0.051)</td></tr>\\n<tr><td style=\"text-align:left\">Question_Number_11[T.True]</td><td>0.026<sup></sup></td></tr>\\n<tr><td style=\"text-align:left\"></td><td>(0.037)</td></tr>\\n<tr><td style=\"text-align:left\">Question_Number_12[T.True]</td><td>-0.017<sup></sup></td></tr>\\n<tr><td style=\"text-align:left\"></td><td>(0.032)</td></tr>\\n<tr><td style=\"text-align:left\">Question_Number_13[T.True]</td><td>0.000<sup></sup></td></tr>\\n<tr><td style=\"text-align:left\"></td><td>(0.034)</td></tr>\\n<tr><td style=\"text-align:left\">Question_Number_14[T.True]</td><td>0.522<sup>***</sup></td></tr>\\n<tr><td style=\"text-align:left\"></td><td>(0.051)</td></tr>\\n<tr><td style=\"text-align:left\">Question_Number_15[T.True]</td><td>0.843<sup>***</sup></td></tr>\\n<tr><td style=\"text-align:left\"></td><td>(0.036)</td></tr>\\n<tr><td style=\"text-align:left\">Question_Number_2[T.True]</td><td>0.852<sup>***</sup></td></tr>\\n<tr><td style=\"text-align:left\"></td><td>(0.035)</td></tr>\\n<tr><td style=\"text-align:left\">Question_Number_3[T.True]</td><td>0.791<sup>***</sup></td></tr>\\n<tr><td style=\"text-align:left\"></td><td>(0.041)</td></tr>\\n<tr><td style=\"text-align:left\">Question_Number_4[T.True]</td><td>0.670<sup>***</sup></td></tr>\\n<tr><td style=\"text-align:left\"></td><td>(0.048)</td></tr>\\n<tr><td style=\"text-align:left\">Question_Number_5[T.True]</td><td>0.261<sup>***</sup></td></tr>\\n<tr><td style=\"text-align:left\"></td><td>(0.051)</td></tr>\\n<tr><td style=\"text-align:left\">Question_Number_6[T.True]</td><td>0.400<sup>***</sup></td></tr>\\n<tr><td style=\"text-align:left\"></td><td>(0.052)</td></tr>\\n<tr><td style=\"text-align:left\">Question_Number_7[T.True]</td><td>0.043<sup></sup></td></tr>\\n<tr><td style=\"text-align:left\"></td><td>(0.038)</td></tr>\\n<tr><td style=\"text-align:left\">Question_Number_8[T.True]</td><td>0.348<sup>***</sup></td></tr>\\n<tr><td style=\"text-align:left\"></td><td>(0.051)</td></tr>\\n<tr><td style=\"text-align:left\">Question_Number_9[T.True]</td><td>0.070<sup>*</sup></td></tr>\\n<tr><td style=\"text-align:left\"></td><td>(0.040)</td></tr>\\n<tr><td style=\"text-align:left\">Treatment</td><td>0.075<sup>***</sup></td></tr>\\n<tr><td style=\"text-align:left\"></td><td>(0.018)</td></tr>\\n\\n<td colspan=\"2\" style=\"border-bottom: 1px solid black\"></td></tr>\\n<tr><td style=\"text-align: left\">Observations</td><td>1725</td></tr><tr><td style=\"text-align: left\">R<sup>2</sup></td><td>0.417</td></tr><tr><td style=\"text-align: left\">Adjusted R<sup>2</sup></td><td>0.412</td></tr><tr><td style=\"text-align: left\">Residual Std. Error</td><td>0.377 (df=1709)</td></tr><tr><td style=\"text-align: left\">F Statistic</td><td>135.041<sup>***</sup> (df=15; 1709)</td></tr>\\n<tr><td colspan=\"2\" style=\"border-bottom: 1px solid black\"></td></tr><tr><td style=\"text-align: left\">Note:</td><td colspan=\"1\" style=\"text-align: right\"><sup>*</sup>p&lt;0.1; <sup>**</sup>p&lt;0.05; <sup>***</sup>p&lt;0.01</td></tr></table>'"
            ],
            "application/vnd.google.colaboratory.intrinsic+json": {
              "type": "string"
            }
          },
          "metadata": {},
          "execution_count": 74
        }
      ]
    },
    {
      "cell_type": "code",
      "source": [
        "data.info()"
      ],
      "metadata": {
        "id": "kj8t_BlJHnoF",
        "colab": {
          "base_uri": "https://localhost:8080/"
        },
        "outputId": "315d6481-aa6a-4ec7-8e0d-a1ea32472353"
      },
      "execution_count": 75,
      "outputs": [
        {
          "output_type": "stream",
          "name": "stdout",
          "text": [
            "<class 'pandas.core.frame.DataFrame'>\n",
            "RangeIndex: 1725 entries, 0 to 1724\n",
            "Data columns (total 59 columns):\n",
            " #   Column                                  Non-Null Count  Dtype \n",
            "---  ------                                  --------------  ----- \n",
            " 0   Response                                1725 non-null   object\n",
            " 1   Person_number                           1725 non-null   int64 \n",
            " 2   Treatment                               1725 non-null   int64 \n",
            " 3   Choice_eco_friendly                     1725 non-null   int64 \n",
            " 4   Age                                     1725 non-null   object\n",
            " 5   Gender                                  1725 non-null   object\n",
            " 6   Education_level                         1725 non-null   object\n",
            " 7   Household_income                        1725 non-null   object\n",
            " 8   Eco_price                               1725 non-null   int64 \n",
            " 9   Eco_Airline                             1725 non-null   object\n",
            " 10  Eco_Departure_Airport                   1725 non-null   object\n",
            " 11  Eco_Arrival_Airport                     1725 non-null   object\n",
            " 12  Eco_Hour_Departure                      1725 non-null   int64 \n",
            " 13  Eco_Hour_Arrival                        1725 non-null   int64 \n",
            " 14  Eco_Flight_Length                       1725 non-null   int64 \n",
            " 15  NonEco_price                            1725 non-null   int64 \n",
            " 16  NonEco_Airline                          1725 non-null   object\n",
            " 17  NonEco_Departure_Airport                1725 non-null   object\n",
            " 18  NonEco_Arrival_Airport                  1725 non-null   object\n",
            " 19  NonEco_Hour_Departure                   1725 non-null   int64 \n",
            " 20  NonEco_Hour_Arrival                     1725 non-null   int64 \n",
            " 21  NonEco_Flight_Length                    1725 non-null   int64 \n",
            " 22  Age_18_24                               1725 non-null   int64 \n",
            " 23  Age_25_34                               1725 non-null   int64 \n",
            " 24  Age_45_54                               1725 non-null   int64 \n",
            " 25  Age_55_64                               1725 non-null   int64 \n",
            " 26  Age_65_and_over                         1725 non-null   int64 \n",
            " 27  Age_Under_18                            1725 non-null   int64 \n",
            " 28  Gender_Female                           1725 non-null   int64 \n",
            " 29  Gender_Male                             1725 non-null   int64 \n",
            " 30  Gender_Non_binary_third_gender          1725 non-null   int64 \n",
            " 31  Gender_Prefer_not_to_say                1725 non-null   int64 \n",
            " 32  Income_0_29999                          1725 non-null   int64 \n",
            " 33  Income_120000                           1725 non-null   int64 \n",
            " 34  Income_30000_59999                      1725 non-null   int64 \n",
            " 35  Income_60000_89999                      1725 non-null   int64 \n",
            " 36  Income_90000_119000                     1725 non-null   int64 \n",
            " 37  Income_Prefer_not_to_say                1725 non-null   int64 \n",
            " 38  Edu_2_year_degree                       1725 non-null   int64 \n",
            " 39  Edu_4_year_degree                       1725 non-null   int64 \n",
            " 40  Edu_Doctorate                           1725 non-null   int64 \n",
            " 41  Edu_High_school_graduate_including_GED  1725 non-null   int64 \n",
            " 42  Edu_Less_than_high_school               1725 non-null   int64 \n",
            " 43  Edu_Professional_degree                 1725 non-null   int64 \n",
            " 44  Edu_Some_college                        1725 non-null   int64 \n",
            " 45  Question_Number_2                       1725 non-null   bool  \n",
            " 46  Question_Number_3                       1725 non-null   bool  \n",
            " 47  Question_Number_4                       1725 non-null   bool  \n",
            " 48  Question_Number_5                       1725 non-null   bool  \n",
            " 49  Question_Number_6                       1725 non-null   bool  \n",
            " 50  Question_Number_7                       1725 non-null   bool  \n",
            " 51  Question_Number_8                       1725 non-null   bool  \n",
            " 52  Question_Number_9                       1725 non-null   bool  \n",
            " 53  Question_Number_10                      1725 non-null   bool  \n",
            " 54  Question_Number_11                      1725 non-null   bool  \n",
            " 55  Question_Number_12                      1725 non-null   bool  \n",
            " 56  Question_Number_13                      1725 non-null   bool  \n",
            " 57  Question_Number_14                      1725 non-null   bool  \n",
            " 58  Question_Number_15                      1725 non-null   bool  \n",
            "dtypes: bool(14), int64(34), object(11)\n",
            "memory usage: 630.2+ KB\n"
          ]
        }
      ]
    },
    {
      "cell_type": "markdown",
      "source": [
        "## Randomization Checks"
      ],
      "metadata": {
        "id": "fl_4k6QtnU97"
      }
    },
    {
      "cell_type": "code",
      "source": [
        "import statsmodels.api as sm\n",
        "from stargazer.stargazer import Stargazer\n",
        "# Linear Regression (lm)\n",
        "\n",
        "feols = sm.OLS.from_formula('Treatment ~ Age', data=data).fit(cov_type='HC3')\n",
        "\n",
        "Stargazer([feols])"
      ],
      "metadata": {
        "id": "8Yk7_P-AnZ9A",
        "colab": {
          "base_uri": "https://localhost:8080/",
          "height": 533
        },
        "outputId": "40bee5d7-c1ed-4f98-afb0-196d99a750aa"
      },
      "execution_count": 76,
      "outputs": [
        {
          "output_type": "stream",
          "name": "stderr",
          "text": [
            "/usr/local/lib/python3.10/dist-packages/statsmodels/base/model.py:1894: ValueWarning: covariance of constraints does not have full rank. The number of constraints is 5, but rank is 4\n",
            "  warnings.warn('covariance of constraints does not have full '\n"
          ]
        },
        {
          "output_type": "execute_result",
          "data": {
            "text/plain": [
              "<stargazer.stargazer.Stargazer at 0x7d65f6fec940>"
            ],
            "text/html": [
              "<table style=\"text-align:center\"><tr><td colspan=\"2\" style=\"border-bottom: 1px solid black\"></td></tr>\n",
              "<tr><td style=\"text-align:left\"></td><td colspan=\"1\"><em>Dependent variable: Treatment</em></td></tr><tr><td style=\"text-align:left\"></td><tr><td style=\"text-align:left\"></td><td>(1)</td></tr>\n",
              "<tr><td colspan=\"2\" style=\"border-bottom: 1px solid black\"></td></tr>\n",
              "\n",
              "<tr><td style=\"text-align:left\">Age[T.25-34]</td><td>0.157<sup>**</sup></td></tr>\n",
              "<tr><td style=\"text-align:left\"></td><td>(0.073)</td></tr>\n",
              "<tr><td style=\"text-align:left\">Age[T.45-54]</td><td>-0.176<sup>**</sup></td></tr>\n",
              "<tr><td style=\"text-align:left\"></td><td>(0.073)</td></tr>\n",
              "<tr><td style=\"text-align:left\">Age[T.55-64]</td><td>0.157<sup>**</sup></td></tr>\n",
              "<tr><td style=\"text-align:left\"></td><td>(0.073)</td></tr>\n",
              "<tr><td style=\"text-align:left\">Age[T.65 and over]</td><td>-0.510<sup>***</sup></td></tr>\n",
              "<tr><td style=\"text-align:left\"></td><td>(0.013)</td></tr>\n",
              "<tr><td style=\"text-align:left\">Age[T.Under 18]</td><td>0.490<sup>***</sup></td></tr>\n",
              "<tr><td style=\"text-align:left\"></td><td>(0.013)</td></tr>\n",
              "<tr><td style=\"text-align:left\">Intercept</td><td>0.510<sup>***</sup></td></tr>\n",
              "<tr><td style=\"text-align:left\"></td><td>(0.013)</td></tr>\n",
              "\n",
              "<td colspan=\"2\" style=\"border-bottom: 1px solid black\"></td></tr>\n",
              "<tr><td style=\"text-align: left\">Observations</td><td>1725</td></tr><tr><td style=\"text-align: left\">R<sup>2</sup></td><td>0.026</td></tr><tr><td style=\"text-align: left\">Adjusted R<sup>2</sup></td><td>0.023</td></tr><tr><td style=\"text-align: left\">Residual Std. Error</td><td>0.494 (df=1719)</td></tr><tr><td style=\"text-align: left\">F Statistic</td><td>4.177<sup>***</sup> (df=5; 1719)</td></tr>\n",
              "<tr><td colspan=\"2\" style=\"border-bottom: 1px solid black\"></td></tr><tr><td style=\"text-align: left\">Note:</td><td colspan=\"1\" style=\"text-align: right\"><sup>*</sup>p&lt;0.1; <sup>**</sup>p&lt;0.05; <sup>***</sup>p&lt;0.01</td></tr></table>"
            ]
          },
          "metadata": {},
          "execution_count": 76
        }
      ]
    },
    {
      "cell_type": "code",
      "source": [
        "import statsmodels.api as sm\n",
        "from stargazer.stargazer import Stargazer\n",
        "# Linear Regression (lm)\n",
        "\n",
        "feols = sm.OLS.from_formula('Treatment ~ Gender', data=data).fit(cov_type='HC3')\n",
        "\n",
        "Stargazer([feols])"
      ],
      "metadata": {
        "id": "5e8GTPWjoOmq",
        "colab": {
          "base_uri": "https://localhost:8080/",
          "height": 407
        },
        "outputId": "e70a35d3-1ad0-40cd-dbef-03fa452d7dfe"
      },
      "execution_count": 77,
      "outputs": [
        {
          "output_type": "execute_result",
          "data": {
            "text/plain": [
              "<stargazer.stargazer.Stargazer at 0x7d65f7431540>"
            ],
            "text/html": [
              "<table style=\"text-align:center\"><tr><td colspan=\"2\" style=\"border-bottom: 1px solid black\"></td></tr>\n",
              "<tr><td style=\"text-align:left\"></td><td colspan=\"1\"><em>Dependent variable: Treatment</em></td></tr><tr><td style=\"text-align:left\"></td><tr><td style=\"text-align:left\"></td><td>(1)</td></tr>\n",
              "<tr><td colspan=\"2\" style=\"border-bottom: 1px solid black\"></td></tr>\n",
              "\n",
              "<tr><td style=\"text-align:left\">Gender[T.Male]</td><td>-0.170<sup>***</sup></td></tr>\n",
              "<tr><td style=\"text-align:left\"></td><td>(0.024)</td></tr>\n",
              "<tr><td style=\"text-align:left\">Gender[T.Non-binary / third gender]</td><td>0.410<sup>***</sup></td></tr>\n",
              "<tr><td style=\"text-align:left\"></td><td>(0.016)</td></tr>\n",
              "<tr><td style=\"text-align:left\">Gender[T.Prefer not to say]</td><td>-0.257<sup>***</sup></td></tr>\n",
              "<tr><td style=\"text-align:left\"></td><td>(0.074)</td></tr>\n",
              "<tr><td style=\"text-align:left\">Intercept</td><td>0.590<sup>***</sup></td></tr>\n",
              "<tr><td style=\"text-align:left\"></td><td>(0.016)</td></tr>\n",
              "\n",
              "<td colspan=\"2\" style=\"border-bottom: 1px solid black\"></td></tr>\n",
              "<tr><td style=\"text-align: left\">Observations</td><td>1725</td></tr><tr><td style=\"text-align: left\">R<sup>2</sup></td><td>0.039</td></tr><tr><td style=\"text-align: left\">Adjusted R<sup>2</sup></td><td>0.038</td></tr><tr><td style=\"text-align: left\">Residual Std. Error</td><td>0.490 (df=1721)</td></tr><tr><td style=\"text-align: left\">F Statistic</td><td>584.342<sup>***</sup> (df=3; 1721)</td></tr>\n",
              "<tr><td colspan=\"2\" style=\"border-bottom: 1px solid black\"></td></tr><tr><td style=\"text-align: left\">Note:</td><td colspan=\"1\" style=\"text-align: right\"><sup>*</sup>p&lt;0.1; <sup>**</sup>p&lt;0.05; <sup>***</sup>p&lt;0.01</td></tr></table>"
            ]
          },
          "metadata": {},
          "execution_count": 77
        }
      ]
    },
    {
      "cell_type": "code",
      "source": [
        "import statsmodels.api as sm\n",
        "from stargazer.stargazer import Stargazer\n",
        "# Linear Regression (lm)\n",
        "\n",
        "feols = sm.OLS.from_formula('Treatment ~ Education_level', data=data).fit(cov_type='HC3')\n",
        "\n",
        "Stargazer([feols])"
      ],
      "metadata": {
        "id": "HwAYhSx7okpy",
        "colab": {
          "base_uri": "https://localhost:8080/",
          "height": 579
        },
        "outputId": "9b68f110-a2dd-4c79-9ec2-687b6c60482b"
      },
      "execution_count": 78,
      "outputs": [
        {
          "output_type": "stream",
          "name": "stderr",
          "text": [
            "/usr/local/lib/python3.10/dist-packages/statsmodels/base/model.py:1894: ValueWarning: covariance of constraints does not have full rank. The number of constraints is 6, but rank is 3\n",
            "  warnings.warn('covariance of constraints does not have full '\n"
          ]
        },
        {
          "output_type": "execute_result",
          "data": {
            "text/plain": [
              "<stargazer.stargazer.Stargazer at 0x7d65f718d6f0>"
            ],
            "text/html": [
              "<table style=\"text-align:center\"><tr><td colspan=\"2\" style=\"border-bottom: 1px solid black\"></td></tr>\n",
              "<tr><td style=\"text-align:left\"></td><td colspan=\"1\"><em>Dependent variable: Treatment</em></td></tr><tr><td style=\"text-align:left\"></td><tr><td style=\"text-align:left\"></td><td>(1)</td></tr>\n",
              "<tr><td colspan=\"2\" style=\"border-bottom: 1px solid black\"></td></tr>\n",
              "\n",
              "<tr><td style=\"text-align:left\">Education_level[T.4 year degree]</td><td>-0.491<sup>***</sup></td></tr>\n",
              "<tr><td style=\"text-align:left\"></td><td>(0.018)</td></tr>\n",
              "<tr><td style=\"text-align:left\">Education_level[T.Doctorate]</td><td>-1.000<sup>***</sup></td></tr>\n",
              "<tr><td style=\"text-align:left\"></td><td>(0.000)</td></tr>\n",
              "<tr><td style=\"text-align:left\">Education_level[T.High school graduate (including GED)]</td><td>0.000<sup></sup></td></tr>\n",
              "<tr><td style=\"text-align:left\"></td><td>(0.000)</td></tr>\n",
              "<tr><td style=\"text-align:left\">Education_level[T.Less than high school]</td><td>0.000<sup>**</sup></td></tr>\n",
              "<tr><td style=\"text-align:left\"></td><td>(0.000)</td></tr>\n",
              "<tr><td style=\"text-align:left\">Education_level[T.Professional degree]</td><td>-0.250<sup>***</sup></td></tr>\n",
              "<tr><td style=\"text-align:left\"></td><td>(0.040)</td></tr>\n",
              "<tr><td style=\"text-align:left\">Education_level[T.Some college]</td><td>-0.600<sup>***</sup></td></tr>\n",
              "<tr><td style=\"text-align:left\"></td><td>(0.019)</td></tr>\n",
              "<tr><td style=\"text-align:left\">Intercept</td><td>1.000<sup>***</sup></td></tr>\n",
              "<tr><td style=\"text-align:left\"></td><td>(0.000)</td></tr>\n",
              "\n",
              "<td colspan=\"2\" style=\"border-bottom: 1px solid black\"></td></tr>\n",
              "<tr><td style=\"text-align: left\">Observations</td><td>1725</td></tr><tr><td style=\"text-align: left\">R<sup>2</sup></td><td>0.111</td></tr><tr><td style=\"text-align: left\">Adjusted R<sup>2</sup></td><td>0.108</td></tr><tr><td style=\"text-align: left\">Residual Std. Error</td><td>0.472 (df=1718)</td></tr><tr><td style=\"text-align: left\">F Statistic</td><td>604.156<sup>***</sup> (df=6; 1718)</td></tr>\n",
              "<tr><td colspan=\"2\" style=\"border-bottom: 1px solid black\"></td></tr><tr><td style=\"text-align: left\">Note:</td><td colspan=\"1\" style=\"text-align: right\"><sup>*</sup>p&lt;0.1; <sup>**</sup>p&lt;0.05; <sup>***</sup>p&lt;0.01</td></tr></table>"
            ]
          },
          "metadata": {},
          "execution_count": 78
        }
      ]
    },
    {
      "cell_type": "code",
      "source": [
        "import statsmodels.api as sm\n",
        "from stargazer.stargazer import Stargazer\n",
        "# Linear Regression (lm)\n",
        "\n",
        "feols = sm.OLS.from_formula('Treatment ~  Household_income', data=data).fit(cov_type='HC3')\n",
        "\n",
        "Stargazer([feols])"
      ],
      "metadata": {
        "id": "K-MAj7bjoxEp",
        "colab": {
          "base_uri": "https://localhost:8080/",
          "height": 499
        },
        "outputId": "06bdb326-e2cd-48dc-aa3f-8425d232fda2"
      },
      "execution_count": 79,
      "outputs": [
        {
          "output_type": "execute_result",
          "data": {
            "text/plain": [
              "<stargazer.stargazer.Stargazer at 0x7d65f718e170>"
            ],
            "text/html": [
              "<table style=\"text-align:center\"><tr><td colspan=\"2\" style=\"border-bottom: 1px solid black\"></td></tr>\n",
              "<tr><td style=\"text-align:left\"></td><td colspan=\"1\"><em>Dependent variable: Treatment</em></td></tr><tr><td style=\"text-align:left\"></td><tr><td style=\"text-align:left\"></td><td>(1)</td></tr>\n",
              "<tr><td colspan=\"2\" style=\"border-bottom: 1px solid black\"></td></tr>\n",
              "\n",
              "<tr><td style=\"text-align:left\">Household_income[T.$120,000+]</td><td>0.000<sup></sup></td></tr>\n",
              "<tr><td style=\"text-align:left\"></td><td>(0.036)</td></tr>\n",
              "<tr><td style=\"text-align:left\">Household_income[T.$30,000-$59,999]</td><td>0.193<sup>***</sup></td></tr>\n",
              "<tr><td style=\"text-align:left\"></td><td>(0.043)</td></tr>\n",
              "<tr><td style=\"text-align:left\">Household_income[T.$60,000-$89,999]</td><td>-0.057<sup></sup></td></tr>\n",
              "<tr><td style=\"text-align:left\"></td><td>(0.047)</td></tr>\n",
              "<tr><td style=\"text-align:left\">Household_income[T.$90,000-$119,000]</td><td>-0.062<sup></sup></td></tr>\n",
              "<tr><td style=\"text-align:left\"></td><td>(0.043)</td></tr>\n",
              "<tr><td style=\"text-align:left\">Household_income[T.Prefer not to say]</td><td>0.241<sup>***</sup></td></tr>\n",
              "<tr><td style=\"text-align:left\"></td><td>(0.043)</td></tr>\n",
              "<tr><td style=\"text-align:left\">Intercept</td><td>0.474<sup>***</sup></td></tr>\n",
              "<tr><td style=\"text-align:left\"></td><td>(0.030)</td></tr>\n",
              "\n",
              "<td colspan=\"2\" style=\"border-bottom: 1px solid black\"></td></tr>\n",
              "<tr><td style=\"text-align: left\">Observations</td><td>1725</td></tr><tr><td style=\"text-align: left\">R<sup>2</sup></td><td>0.045</td></tr><tr><td style=\"text-align: left\">Adjusted R<sup>2</sup></td><td>0.042</td></tr><tr><td style=\"text-align: left\">Residual Std. Error</td><td>0.489 (df=1719)</td></tr><tr><td style=\"text-align: left\">F Statistic</td><td>17.488<sup>***</sup> (df=5; 1719)</td></tr>\n",
              "<tr><td colspan=\"2\" style=\"border-bottom: 1px solid black\"></td></tr><tr><td style=\"text-align: left\">Note:</td><td colspan=\"1\" style=\"text-align: right\"><sup>*</sup>p&lt;0.1; <sup>**</sup>p&lt;0.05; <sup>***</sup>p&lt;0.01</td></tr></table>"
            ]
          },
          "metadata": {},
          "execution_count": 79
        }
      ]
    }
  ]
}